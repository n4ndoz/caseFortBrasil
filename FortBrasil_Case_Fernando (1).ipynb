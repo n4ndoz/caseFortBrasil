{
  "nbformat": 4,
  "nbformat_minor": 0,
  "metadata": {
    "colab": {
      "name": "FortBrasil_Case_Fernando.ipynb",
      "provenance": [],
      "collapsed_sections": []
    },
    "kernelspec": {
      "name": "python3",
      "display_name": "Python 3"
    },
    "language_info": {
      "name": "python"
    }
  },
  "cells": [
    {
      "cell_type": "markdown",
      "source": [
        "## Case FortBrasil\n",
        "**Questão 1** <br>\n",
        "**Descrição**: <br>\n",
        "\n",
        "O negócio da Fortbrasil consiste na oferta de crédito rápido e consciente para parceiros e clientes de classes emergentes, sendo nosso principal produto o cartão de crédito. Para a primeira questão, disponibilizamos algumas variáveis relacionadas à fatura dos clientes: <br>\n",
        "\n",
        "**ID_CONTA**: Identificador da conta; <br>\n",
        "**DT_VENCIMENTO**: Data vencimento da fatura; <br>\n",
        "**DS_ROLAGEM**: Indicador que define se o cliente pagou a fatura do Mês anterior ou não. Se o valor for FX0 quer dizer que o cliente pagou a fatura do mês anterior e se FX1 quer dizer que o cliente não pagou a fatura do mês anterior; <br>\n",
        "**VL_FATURA**: Valor da Fatura atual. <br>\n"
      ],
      "metadata": {
        "id": "GObTG0EHgjxi"
      }
    },
    {
      "cell_type": "markdown",
      "source": [
        "### Preparação do Ambiente de Análise\n",
        "**Objetivos**: <br>\n",
        "1- Importar bibliotecas <br>\n",
        "2- Carregar Dados <br>\n",
        "**Setting**: <br>\n",
        "**Data Source**: `Questão 1 - Base.txt`"
      ],
      "metadata": {
        "id": "bUBk2emwhh-C"
      }
    },
    {
      "cell_type": "code",
      "execution_count": 46,
      "metadata": {
        "id": "AN572CoJeWd8"
      },
      "outputs": [],
      "source": [
        "# imports\n",
        "import pandas as pd\n",
        "import numpy as np\n",
        "import matplotlib.pyplot as plt\n",
        "import seaborn as sns"
      ]
    },
    {
      "cell_type": "code",
      "source": [
        "# path to data\n",
        "data_path = \"/content/drive/MyDrive/FortBrasil_Case/Questão 1 - Base.txt\""
      ],
      "metadata": {
        "id": "S7K9Pc9Wf6aJ"
      },
      "execution_count": 2,
      "outputs": []
    },
    {
      "cell_type": "code",
      "source": [
        "# reading CSV files\n",
        "data = pd.read_csv(data_path, sep='\\t')"
      ],
      "metadata": {
        "id": "qfwxizGogGG6"
      },
      "execution_count": 3,
      "outputs": []
    },
    {
      "cell_type": "code",
      "source": [
        "# checking dtypes\n",
        "data.dtypes"
      ],
      "metadata": {
        "colab": {
          "base_uri": "https://localhost:8080/"
        },
        "id": "lswdqNFUgUD0",
        "outputId": "0b4be1ff-08fb-4f59-ef4d-be043df65e7b"
      },
      "execution_count": 4,
      "outputs": [
        {
          "output_type": "execute_result",
          "data": {
            "text/plain": [
              "ID_CONTA           int64\n",
              "DT_VENCIMENTO     object\n",
              "DS_ROLAGEM        object\n",
              "VL_FATURA        float64\n",
              "dtype: object"
            ]
          },
          "metadata": {},
          "execution_count": 4
        }
      ]
    },
    {
      "cell_type": "markdown",
      "source": [
        "**Necessário casting de tipos** <br>\n",
        "**DT_VENCIMENTO** para pd.datetime[64] <br>\n",
        "**DT_ROLAGEM** para categórico ou numérico <br>"
      ],
      "metadata": {
        "id": "618HXktyij5Q"
      }
    },
    {
      "cell_type": "code",
      "source": [
        "# check if nulls in DS_ROLAGEM\n",
        "data.isna().any() # sem nulls"
      ],
      "metadata": {
        "colab": {
          "base_uri": "https://localhost:8080/"
        },
        "id": "X81iqLrZjQRx",
        "outputId": "ac9c8bdd-3745-4574-8e05-bd49a1114017"
      },
      "execution_count": 5,
      "outputs": [
        {
          "output_type": "execute_result",
          "data": {
            "text/plain": [
              "ID_CONTA         False\n",
              "DT_VENCIMENTO    False\n",
              "DS_ROLAGEM       False\n",
              "VL_FATURA        False\n",
              "dtype: bool"
            ]
          },
          "metadata": {},
          "execution_count": 5
        }
      ]
    },
    {
      "cell_type": "code",
      "source": [
        "# cast DS_ROLAGEM pra int\n",
        "data.loc[:, 'DS_ROLAGEM'] = data.loc[:, 'DS_ROLAGEM'].apply(lambda x: int(x[-1]))"
      ],
      "metadata": {
        "id": "PUtdaQ3Big6q"
      },
      "execution_count": 6,
      "outputs": []
    },
    {
      "cell_type": "code",
      "source": [
        "data.loc[:, 'DT_VENCIMENTO'] = pd.to_datetime(data.loc[:, 'DT_VENCIMENTO'])"
      ],
      "metadata": {
        "id": "qbemZIQPjJzT"
      },
      "execution_count": 7,
      "outputs": []
    },
    {
      "cell_type": "markdown",
      "source": [
        "### Análise Exploratória I\n",
        "**Objetivos**: <br>\n",
        "1- Investigar as distribuições das features <br>\n",
        "2- Descrever features numérica e graficamente"
      ],
      "metadata": {
        "id": "unpHPtKwlCqX"
      }
    },
    {
      "cell_type": "code",
      "source": [
        "data"
      ],
      "metadata": {
        "colab": {
          "base_uri": "https://localhost:8080/",
          "height": 423
        },
        "id": "GRxSlDqwl5zk",
        "outputId": "b63bfe1d-e977-4067-e638-333e1009af2c"
      },
      "execution_count": 8,
      "outputs": [
        {
          "output_type": "execute_result",
          "data": {
            "text/plain": [
              "         ID_CONTA DT_VENCIMENTO  DS_ROLAGEM  VL_FATURA\n",
              "0          402467    2019-01-01           0     210.00\n",
              "1          403001    2019-01-01           1    1097.18\n",
              "2          403499    2019-01-01           0    1209.88\n",
              "3          403670    2019-01-01           0     667.40\n",
              "4          404183    2019-01-01           1    1239.52\n",
              "...           ...           ...         ...        ...\n",
              "2728244   1624841    2019-08-08           1    1467.05\n",
              "2728245   1624848    2019-08-08           0    1189.15\n",
              "2728246   1624871    2019-08-08           1     427.72\n",
              "2728247   1624878    2019-08-08           0     281.14\n",
              "2728248   1624884    2019-08-08           0     313.00\n",
              "\n",
              "[2728249 rows x 4 columns]"
            ],
            "text/html": [
              "\n",
              "  <div id=\"df-c46f5bb1-c789-47db-a59a-f93ed9951514\">\n",
              "    <div class=\"colab-df-container\">\n",
              "      <div>\n",
              "<style scoped>\n",
              "    .dataframe tbody tr th:only-of-type {\n",
              "        vertical-align: middle;\n",
              "    }\n",
              "\n",
              "    .dataframe tbody tr th {\n",
              "        vertical-align: top;\n",
              "    }\n",
              "\n",
              "    .dataframe thead th {\n",
              "        text-align: right;\n",
              "    }\n",
              "</style>\n",
              "<table border=\"1\" class=\"dataframe\">\n",
              "  <thead>\n",
              "    <tr style=\"text-align: right;\">\n",
              "      <th></th>\n",
              "      <th>ID_CONTA</th>\n",
              "      <th>DT_VENCIMENTO</th>\n",
              "      <th>DS_ROLAGEM</th>\n",
              "      <th>VL_FATURA</th>\n",
              "    </tr>\n",
              "  </thead>\n",
              "  <tbody>\n",
              "    <tr>\n",
              "      <th>0</th>\n",
              "      <td>402467</td>\n",
              "      <td>2019-01-01</td>\n",
              "      <td>0</td>\n",
              "      <td>210.00</td>\n",
              "    </tr>\n",
              "    <tr>\n",
              "      <th>1</th>\n",
              "      <td>403001</td>\n",
              "      <td>2019-01-01</td>\n",
              "      <td>1</td>\n",
              "      <td>1097.18</td>\n",
              "    </tr>\n",
              "    <tr>\n",
              "      <th>2</th>\n",
              "      <td>403499</td>\n",
              "      <td>2019-01-01</td>\n",
              "      <td>0</td>\n",
              "      <td>1209.88</td>\n",
              "    </tr>\n",
              "    <tr>\n",
              "      <th>3</th>\n",
              "      <td>403670</td>\n",
              "      <td>2019-01-01</td>\n",
              "      <td>0</td>\n",
              "      <td>667.40</td>\n",
              "    </tr>\n",
              "    <tr>\n",
              "      <th>4</th>\n",
              "      <td>404183</td>\n",
              "      <td>2019-01-01</td>\n",
              "      <td>1</td>\n",
              "      <td>1239.52</td>\n",
              "    </tr>\n",
              "    <tr>\n",
              "      <th>...</th>\n",
              "      <td>...</td>\n",
              "      <td>...</td>\n",
              "      <td>...</td>\n",
              "      <td>...</td>\n",
              "    </tr>\n",
              "    <tr>\n",
              "      <th>2728244</th>\n",
              "      <td>1624841</td>\n",
              "      <td>2019-08-08</td>\n",
              "      <td>1</td>\n",
              "      <td>1467.05</td>\n",
              "    </tr>\n",
              "    <tr>\n",
              "      <th>2728245</th>\n",
              "      <td>1624848</td>\n",
              "      <td>2019-08-08</td>\n",
              "      <td>0</td>\n",
              "      <td>1189.15</td>\n",
              "    </tr>\n",
              "    <tr>\n",
              "      <th>2728246</th>\n",
              "      <td>1624871</td>\n",
              "      <td>2019-08-08</td>\n",
              "      <td>1</td>\n",
              "      <td>427.72</td>\n",
              "    </tr>\n",
              "    <tr>\n",
              "      <th>2728247</th>\n",
              "      <td>1624878</td>\n",
              "      <td>2019-08-08</td>\n",
              "      <td>0</td>\n",
              "      <td>281.14</td>\n",
              "    </tr>\n",
              "    <tr>\n",
              "      <th>2728248</th>\n",
              "      <td>1624884</td>\n",
              "      <td>2019-08-08</td>\n",
              "      <td>0</td>\n",
              "      <td>313.00</td>\n",
              "    </tr>\n",
              "  </tbody>\n",
              "</table>\n",
              "<p>2728249 rows × 4 columns</p>\n",
              "</div>\n",
              "      <button class=\"colab-df-convert\" onclick=\"convertToInteractive('df-c46f5bb1-c789-47db-a59a-f93ed9951514')\"\n",
              "              title=\"Convert this dataframe to an interactive table.\"\n",
              "              style=\"display:none;\">\n",
              "        \n",
              "  <svg xmlns=\"http://www.w3.org/2000/svg\" height=\"24px\"viewBox=\"0 0 24 24\"\n",
              "       width=\"24px\">\n",
              "    <path d=\"M0 0h24v24H0V0z\" fill=\"none\"/>\n",
              "    <path d=\"M18.56 5.44l.94 2.06.94-2.06 2.06-.94-2.06-.94-.94-2.06-.94 2.06-2.06.94zm-11 1L8.5 8.5l.94-2.06 2.06-.94-2.06-.94L8.5 2.5l-.94 2.06-2.06.94zm10 10l.94 2.06.94-2.06 2.06-.94-2.06-.94-.94-2.06-.94 2.06-2.06.94z\"/><path d=\"M17.41 7.96l-1.37-1.37c-.4-.4-.92-.59-1.43-.59-.52 0-1.04.2-1.43.59L10.3 9.45l-7.72 7.72c-.78.78-.78 2.05 0 2.83L4 21.41c.39.39.9.59 1.41.59.51 0 1.02-.2 1.41-.59l7.78-7.78 2.81-2.81c.8-.78.8-2.07 0-2.86zM5.41 20L4 18.59l7.72-7.72 1.47 1.35L5.41 20z\"/>\n",
              "  </svg>\n",
              "      </button>\n",
              "      \n",
              "  <style>\n",
              "    .colab-df-container {\n",
              "      display:flex;\n",
              "      flex-wrap:wrap;\n",
              "      gap: 12px;\n",
              "    }\n",
              "\n",
              "    .colab-df-convert {\n",
              "      background-color: #E8F0FE;\n",
              "      border: none;\n",
              "      border-radius: 50%;\n",
              "      cursor: pointer;\n",
              "      display: none;\n",
              "      fill: #1967D2;\n",
              "      height: 32px;\n",
              "      padding: 0 0 0 0;\n",
              "      width: 32px;\n",
              "    }\n",
              "\n",
              "    .colab-df-convert:hover {\n",
              "      background-color: #E2EBFA;\n",
              "      box-shadow: 0px 1px 2px rgba(60, 64, 67, 0.3), 0px 1px 3px 1px rgba(60, 64, 67, 0.15);\n",
              "      fill: #174EA6;\n",
              "    }\n",
              "\n",
              "    [theme=dark] .colab-df-convert {\n",
              "      background-color: #3B4455;\n",
              "      fill: #D2E3FC;\n",
              "    }\n",
              "\n",
              "    [theme=dark] .colab-df-convert:hover {\n",
              "      background-color: #434B5C;\n",
              "      box-shadow: 0px 1px 3px 1px rgba(0, 0, 0, 0.15);\n",
              "      filter: drop-shadow(0px 1px 2px rgba(0, 0, 0, 0.3));\n",
              "      fill: #FFFFFF;\n",
              "    }\n",
              "  </style>\n",
              "\n",
              "      <script>\n",
              "        const buttonEl =\n",
              "          document.querySelector('#df-c46f5bb1-c789-47db-a59a-f93ed9951514 button.colab-df-convert');\n",
              "        buttonEl.style.display =\n",
              "          google.colab.kernel.accessAllowed ? 'block' : 'none';\n",
              "\n",
              "        async function convertToInteractive(key) {\n",
              "          const element = document.querySelector('#df-c46f5bb1-c789-47db-a59a-f93ed9951514');\n",
              "          const dataTable =\n",
              "            await google.colab.kernel.invokeFunction('convertToInteractive',\n",
              "                                                     [key], {});\n",
              "          if (!dataTable) return;\n",
              "\n",
              "          const docLinkHtml = 'Like what you see? Visit the ' +\n",
              "            '<a target=\"_blank\" href=https://colab.research.google.com/notebooks/data_table.ipynb>data table notebook</a>'\n",
              "            + ' to learn more about interactive tables.';\n",
              "          element.innerHTML = '';\n",
              "          dataTable['output_type'] = 'display_data';\n",
              "          await google.colab.output.renderOutput(dataTable, element);\n",
              "          const docLink = document.createElement('div');\n",
              "          docLink.innerHTML = docLinkHtml;\n",
              "          element.appendChild(docLink);\n",
              "        }\n",
              "      </script>\n",
              "    </div>\n",
              "  </div>\n",
              "  "
            ]
          },
          "metadata": {},
          "execution_count": 8
        }
      ]
    },
    {
      "cell_type": "code",
      "source": [
        "print(f\"** Contas únicas: {len(data.ID_CONTA.unique())}\")\n",
        "print(f\"** Distribuição das Rolagens:\\n {dict(data.DS_ROLAGEM.value_counts())}\")\n"
      ],
      "metadata": {
        "colab": {
          "base_uri": "https://localhost:8080/"
        },
        "id": "oz7cSjuclQhy",
        "outputId": "a7beb531-2587-4041-d089-4378ed52395d"
      },
      "execution_count": 9,
      "outputs": [
        {
          "output_type": "stream",
          "name": "stdout",
          "text": [
            "** Contas únicas: 458842\n",
            "** Distribuição das Rolagens:\n",
            " {0: 2481796, 1: 246453}\n"
          ]
        }
      ]
    },
    {
      "cell_type": "markdown",
      "source": [
        "#### Questão 1.1\n",
        "1.1 – Qual o percentual de faturas emitidas por mês no qual os clientes não pagaram a fatura anterior? "
      ],
      "metadata": {
        "id": "LDmx7id8mLt2"
      }
    },
    {
      "cell_type": "code",
      "source": [
        "counts_dsrol = data.DS_ROLAGEM.value_counts(normalize=True)*100"
      ],
      "metadata": {
        "id": "7ABnz4vHl_25"
      },
      "execution_count": 10,
      "outputs": []
    },
    {
      "cell_type": "code",
      "source": [
        "# total\n",
        "counts_dsrol"
      ],
      "metadata": {
        "colab": {
          "base_uri": "https://localhost:8080/"
        },
        "id": "WUgFdOU0nWDg",
        "outputId": "04071631-bd62-4f48-fb76-265dfd7357d7"
      },
      "execution_count": 11,
      "outputs": [
        {
          "output_type": "execute_result",
          "data": {
            "text/plain": [
              "0    90.966624\n",
              "1     9.033376\n",
              "Name: DS_ROLAGEM, dtype: float64"
            ]
          },
          "metadata": {},
          "execution_count": 11
        }
      ]
    },
    {
      "cell_type": "code",
      "source": [
        "percentuais = (data\n",
        " .groupby(pd.Grouper(key=\"DT_VENCIMENTO\", freq=\"M\"))[\"DS_ROLAGEM\"]\n",
        " .value_counts(normalize=True)\n",
        ")*100\n",
        "percentuais = percentuais.reset_index(name='Percentuais')"
      ],
      "metadata": {
        "id": "toUT0F6aoZcV"
      },
      "execution_count": 12,
      "outputs": []
    },
    {
      "cell_type": "code",
      "source": [
        ""
      ],
      "metadata": {
        "id": "QIzgsc3Aqb5c"
      },
      "execution_count": 12,
      "outputs": []
    },
    {
      "cell_type": "markdown",
      "source": [
        "**Resposta 1.1** <br>\n",
        "Os percentuais de inadimplência estão listados na Tabela 1 (abaixo). <br>\n",
        "*ToDo*: adicionar um plot disso..."
      ],
      "metadata": {
        "id": "EROKG7urqcaX"
      }
    },
    {
      "cell_type": "code",
      "source": [
        "percentuais"
      ],
      "metadata": {
        "colab": {
          "base_uri": "https://localhost:8080/",
          "height": 614
        },
        "id": "Xg9efHY9qSt1",
        "outputId": "5a3ccd39-a767-4c7d-93da-ce995e007d73"
      },
      "execution_count": 13,
      "outputs": [
        {
          "output_type": "execute_result",
          "data": {
            "text/plain": [
              "   DT_VENCIMENTO  DS_ROLAGEM  Percentuais\n",
              "0     2019-01-31           0    92.713389\n",
              "1     2019-01-31           1     7.286611\n",
              "2     2019-02-28           0    91.101453\n",
              "3     2019-02-28           1     8.898547\n",
              "4     2019-03-31           0    89.121366\n",
              "5     2019-03-31           1    10.878634\n",
              "6     2019-04-30           0    91.605200\n",
              "7     2019-04-30           1     8.394800\n",
              "8     2019-05-31           0    89.955444\n",
              "9     2019-05-31           1    10.044556\n",
              "10    2019-06-30           0    91.465210\n",
              "11    2019-06-30           1     8.534790\n",
              "12    2019-07-31           0    90.386112\n",
              "13    2019-07-31           1     9.613888\n",
              "14    2019-08-31           0    90.936931\n",
              "15    2019-08-31           1     9.063069\n",
              "16    2019-09-30           0    91.463078\n",
              "17    2019-09-30           1     8.536922"
            ],
            "text/html": [
              "\n",
              "  <div id=\"df-6f02efd9-4c15-4d6d-acc0-df5e9a281d02\">\n",
              "    <div class=\"colab-df-container\">\n",
              "      <div>\n",
              "<style scoped>\n",
              "    .dataframe tbody tr th:only-of-type {\n",
              "        vertical-align: middle;\n",
              "    }\n",
              "\n",
              "    .dataframe tbody tr th {\n",
              "        vertical-align: top;\n",
              "    }\n",
              "\n",
              "    .dataframe thead th {\n",
              "        text-align: right;\n",
              "    }\n",
              "</style>\n",
              "<table border=\"1\" class=\"dataframe\">\n",
              "  <thead>\n",
              "    <tr style=\"text-align: right;\">\n",
              "      <th></th>\n",
              "      <th>DT_VENCIMENTO</th>\n",
              "      <th>DS_ROLAGEM</th>\n",
              "      <th>Percentuais</th>\n",
              "    </tr>\n",
              "  </thead>\n",
              "  <tbody>\n",
              "    <tr>\n",
              "      <th>0</th>\n",
              "      <td>2019-01-31</td>\n",
              "      <td>0</td>\n",
              "      <td>92.713389</td>\n",
              "    </tr>\n",
              "    <tr>\n",
              "      <th>1</th>\n",
              "      <td>2019-01-31</td>\n",
              "      <td>1</td>\n",
              "      <td>7.286611</td>\n",
              "    </tr>\n",
              "    <tr>\n",
              "      <th>2</th>\n",
              "      <td>2019-02-28</td>\n",
              "      <td>0</td>\n",
              "      <td>91.101453</td>\n",
              "    </tr>\n",
              "    <tr>\n",
              "      <th>3</th>\n",
              "      <td>2019-02-28</td>\n",
              "      <td>1</td>\n",
              "      <td>8.898547</td>\n",
              "    </tr>\n",
              "    <tr>\n",
              "      <th>4</th>\n",
              "      <td>2019-03-31</td>\n",
              "      <td>0</td>\n",
              "      <td>89.121366</td>\n",
              "    </tr>\n",
              "    <tr>\n",
              "      <th>5</th>\n",
              "      <td>2019-03-31</td>\n",
              "      <td>1</td>\n",
              "      <td>10.878634</td>\n",
              "    </tr>\n",
              "    <tr>\n",
              "      <th>6</th>\n",
              "      <td>2019-04-30</td>\n",
              "      <td>0</td>\n",
              "      <td>91.605200</td>\n",
              "    </tr>\n",
              "    <tr>\n",
              "      <th>7</th>\n",
              "      <td>2019-04-30</td>\n",
              "      <td>1</td>\n",
              "      <td>8.394800</td>\n",
              "    </tr>\n",
              "    <tr>\n",
              "      <th>8</th>\n",
              "      <td>2019-05-31</td>\n",
              "      <td>0</td>\n",
              "      <td>89.955444</td>\n",
              "    </tr>\n",
              "    <tr>\n",
              "      <th>9</th>\n",
              "      <td>2019-05-31</td>\n",
              "      <td>1</td>\n",
              "      <td>10.044556</td>\n",
              "    </tr>\n",
              "    <tr>\n",
              "      <th>10</th>\n",
              "      <td>2019-06-30</td>\n",
              "      <td>0</td>\n",
              "      <td>91.465210</td>\n",
              "    </tr>\n",
              "    <tr>\n",
              "      <th>11</th>\n",
              "      <td>2019-06-30</td>\n",
              "      <td>1</td>\n",
              "      <td>8.534790</td>\n",
              "    </tr>\n",
              "    <tr>\n",
              "      <th>12</th>\n",
              "      <td>2019-07-31</td>\n",
              "      <td>0</td>\n",
              "      <td>90.386112</td>\n",
              "    </tr>\n",
              "    <tr>\n",
              "      <th>13</th>\n",
              "      <td>2019-07-31</td>\n",
              "      <td>1</td>\n",
              "      <td>9.613888</td>\n",
              "    </tr>\n",
              "    <tr>\n",
              "      <th>14</th>\n",
              "      <td>2019-08-31</td>\n",
              "      <td>0</td>\n",
              "      <td>90.936931</td>\n",
              "    </tr>\n",
              "    <tr>\n",
              "      <th>15</th>\n",
              "      <td>2019-08-31</td>\n",
              "      <td>1</td>\n",
              "      <td>9.063069</td>\n",
              "    </tr>\n",
              "    <tr>\n",
              "      <th>16</th>\n",
              "      <td>2019-09-30</td>\n",
              "      <td>0</td>\n",
              "      <td>91.463078</td>\n",
              "    </tr>\n",
              "    <tr>\n",
              "      <th>17</th>\n",
              "      <td>2019-09-30</td>\n",
              "      <td>1</td>\n",
              "      <td>8.536922</td>\n",
              "    </tr>\n",
              "  </tbody>\n",
              "</table>\n",
              "</div>\n",
              "      <button class=\"colab-df-convert\" onclick=\"convertToInteractive('df-6f02efd9-4c15-4d6d-acc0-df5e9a281d02')\"\n",
              "              title=\"Convert this dataframe to an interactive table.\"\n",
              "              style=\"display:none;\">\n",
              "        \n",
              "  <svg xmlns=\"http://www.w3.org/2000/svg\" height=\"24px\"viewBox=\"0 0 24 24\"\n",
              "       width=\"24px\">\n",
              "    <path d=\"M0 0h24v24H0V0z\" fill=\"none\"/>\n",
              "    <path d=\"M18.56 5.44l.94 2.06.94-2.06 2.06-.94-2.06-.94-.94-2.06-.94 2.06-2.06.94zm-11 1L8.5 8.5l.94-2.06 2.06-.94-2.06-.94L8.5 2.5l-.94 2.06-2.06.94zm10 10l.94 2.06.94-2.06 2.06-.94-2.06-.94-.94-2.06-.94 2.06-2.06.94z\"/><path d=\"M17.41 7.96l-1.37-1.37c-.4-.4-.92-.59-1.43-.59-.52 0-1.04.2-1.43.59L10.3 9.45l-7.72 7.72c-.78.78-.78 2.05 0 2.83L4 21.41c.39.39.9.59 1.41.59.51 0 1.02-.2 1.41-.59l7.78-7.78 2.81-2.81c.8-.78.8-2.07 0-2.86zM5.41 20L4 18.59l7.72-7.72 1.47 1.35L5.41 20z\"/>\n",
              "  </svg>\n",
              "      </button>\n",
              "      \n",
              "  <style>\n",
              "    .colab-df-container {\n",
              "      display:flex;\n",
              "      flex-wrap:wrap;\n",
              "      gap: 12px;\n",
              "    }\n",
              "\n",
              "    .colab-df-convert {\n",
              "      background-color: #E8F0FE;\n",
              "      border: none;\n",
              "      border-radius: 50%;\n",
              "      cursor: pointer;\n",
              "      display: none;\n",
              "      fill: #1967D2;\n",
              "      height: 32px;\n",
              "      padding: 0 0 0 0;\n",
              "      width: 32px;\n",
              "    }\n",
              "\n",
              "    .colab-df-convert:hover {\n",
              "      background-color: #E2EBFA;\n",
              "      box-shadow: 0px 1px 2px rgba(60, 64, 67, 0.3), 0px 1px 3px 1px rgba(60, 64, 67, 0.15);\n",
              "      fill: #174EA6;\n",
              "    }\n",
              "\n",
              "    [theme=dark] .colab-df-convert {\n",
              "      background-color: #3B4455;\n",
              "      fill: #D2E3FC;\n",
              "    }\n",
              "\n",
              "    [theme=dark] .colab-df-convert:hover {\n",
              "      background-color: #434B5C;\n",
              "      box-shadow: 0px 1px 3px 1px rgba(0, 0, 0, 0.15);\n",
              "      filter: drop-shadow(0px 1px 2px rgba(0, 0, 0, 0.3));\n",
              "      fill: #FFFFFF;\n",
              "    }\n",
              "  </style>\n",
              "\n",
              "      <script>\n",
              "        const buttonEl =\n",
              "          document.querySelector('#df-6f02efd9-4c15-4d6d-acc0-df5e9a281d02 button.colab-df-convert');\n",
              "        buttonEl.style.display =\n",
              "          google.colab.kernel.accessAllowed ? 'block' : 'none';\n",
              "\n",
              "        async function convertToInteractive(key) {\n",
              "          const element = document.querySelector('#df-6f02efd9-4c15-4d6d-acc0-df5e9a281d02');\n",
              "          const dataTable =\n",
              "            await google.colab.kernel.invokeFunction('convertToInteractive',\n",
              "                                                     [key], {});\n",
              "          if (!dataTable) return;\n",
              "\n",
              "          const docLinkHtml = 'Like what you see? Visit the ' +\n",
              "            '<a target=\"_blank\" href=https://colab.research.google.com/notebooks/data_table.ipynb>data table notebook</a>'\n",
              "            + ' to learn more about interactive tables.';\n",
              "          element.innerHTML = '';\n",
              "          dataTable['output_type'] = 'display_data';\n",
              "          await google.colab.output.renderOutput(dataTable, element);\n",
              "          const docLink = document.createElement('div');\n",
              "          docLink.innerHTML = docLinkHtml;\n",
              "          element.appendChild(docLink);\n",
              "        }\n",
              "      </script>\n",
              "    </div>\n",
              "  </div>\n",
              "  "
            ]
          },
          "metadata": {},
          "execution_count": 13
        }
      ]
    },
    {
      "cell_type": "code",
      "source": [
        "to_plot = percentuais[percentuais.DS_ROLAGEM == 1].iloc[:,[0,2]].reset_index(drop=True)"
      ],
      "metadata": {
        "id": "uTBlmQ-9kwN-"
      },
      "execution_count": 14,
      "outputs": []
    },
    {
      "cell_type": "code",
      "source": [
        "to_plot"
      ],
      "metadata": {
        "colab": {
          "base_uri": "https://localhost:8080/",
          "height": 331
        },
        "id": "I96kOBwflQ63",
        "outputId": "c9392235-2387-4bd3-a889-9d171b096b34"
      },
      "execution_count": 15,
      "outputs": [
        {
          "output_type": "execute_result",
          "data": {
            "text/plain": [
              "  DT_VENCIMENTO  Percentuais\n",
              "0    2019-01-31     7.286611\n",
              "1    2019-02-28     8.898547\n",
              "2    2019-03-31    10.878634\n",
              "3    2019-04-30     8.394800\n",
              "4    2019-05-31    10.044556\n",
              "5    2019-06-30     8.534790\n",
              "6    2019-07-31     9.613888\n",
              "7    2019-08-31     9.063069\n",
              "8    2019-09-30     8.536922"
            ],
            "text/html": [
              "\n",
              "  <div id=\"df-89d76575-f3f0-4f0d-9696-f4087ac02c36\">\n",
              "    <div class=\"colab-df-container\">\n",
              "      <div>\n",
              "<style scoped>\n",
              "    .dataframe tbody tr th:only-of-type {\n",
              "        vertical-align: middle;\n",
              "    }\n",
              "\n",
              "    .dataframe tbody tr th {\n",
              "        vertical-align: top;\n",
              "    }\n",
              "\n",
              "    .dataframe thead th {\n",
              "        text-align: right;\n",
              "    }\n",
              "</style>\n",
              "<table border=\"1\" class=\"dataframe\">\n",
              "  <thead>\n",
              "    <tr style=\"text-align: right;\">\n",
              "      <th></th>\n",
              "      <th>DT_VENCIMENTO</th>\n",
              "      <th>Percentuais</th>\n",
              "    </tr>\n",
              "  </thead>\n",
              "  <tbody>\n",
              "    <tr>\n",
              "      <th>0</th>\n",
              "      <td>2019-01-31</td>\n",
              "      <td>7.286611</td>\n",
              "    </tr>\n",
              "    <tr>\n",
              "      <th>1</th>\n",
              "      <td>2019-02-28</td>\n",
              "      <td>8.898547</td>\n",
              "    </tr>\n",
              "    <tr>\n",
              "      <th>2</th>\n",
              "      <td>2019-03-31</td>\n",
              "      <td>10.878634</td>\n",
              "    </tr>\n",
              "    <tr>\n",
              "      <th>3</th>\n",
              "      <td>2019-04-30</td>\n",
              "      <td>8.394800</td>\n",
              "    </tr>\n",
              "    <tr>\n",
              "      <th>4</th>\n",
              "      <td>2019-05-31</td>\n",
              "      <td>10.044556</td>\n",
              "    </tr>\n",
              "    <tr>\n",
              "      <th>5</th>\n",
              "      <td>2019-06-30</td>\n",
              "      <td>8.534790</td>\n",
              "    </tr>\n",
              "    <tr>\n",
              "      <th>6</th>\n",
              "      <td>2019-07-31</td>\n",
              "      <td>9.613888</td>\n",
              "    </tr>\n",
              "    <tr>\n",
              "      <th>7</th>\n",
              "      <td>2019-08-31</td>\n",
              "      <td>9.063069</td>\n",
              "    </tr>\n",
              "    <tr>\n",
              "      <th>8</th>\n",
              "      <td>2019-09-30</td>\n",
              "      <td>8.536922</td>\n",
              "    </tr>\n",
              "  </tbody>\n",
              "</table>\n",
              "</div>\n",
              "      <button class=\"colab-df-convert\" onclick=\"convertToInteractive('df-89d76575-f3f0-4f0d-9696-f4087ac02c36')\"\n",
              "              title=\"Convert this dataframe to an interactive table.\"\n",
              "              style=\"display:none;\">\n",
              "        \n",
              "  <svg xmlns=\"http://www.w3.org/2000/svg\" height=\"24px\"viewBox=\"0 0 24 24\"\n",
              "       width=\"24px\">\n",
              "    <path d=\"M0 0h24v24H0V0z\" fill=\"none\"/>\n",
              "    <path d=\"M18.56 5.44l.94 2.06.94-2.06 2.06-.94-2.06-.94-.94-2.06-.94 2.06-2.06.94zm-11 1L8.5 8.5l.94-2.06 2.06-.94-2.06-.94L8.5 2.5l-.94 2.06-2.06.94zm10 10l.94 2.06.94-2.06 2.06-.94-2.06-.94-.94-2.06-.94 2.06-2.06.94z\"/><path d=\"M17.41 7.96l-1.37-1.37c-.4-.4-.92-.59-1.43-.59-.52 0-1.04.2-1.43.59L10.3 9.45l-7.72 7.72c-.78.78-.78 2.05 0 2.83L4 21.41c.39.39.9.59 1.41.59.51 0 1.02-.2 1.41-.59l7.78-7.78 2.81-2.81c.8-.78.8-2.07 0-2.86zM5.41 20L4 18.59l7.72-7.72 1.47 1.35L5.41 20z\"/>\n",
              "  </svg>\n",
              "      </button>\n",
              "      \n",
              "  <style>\n",
              "    .colab-df-container {\n",
              "      display:flex;\n",
              "      flex-wrap:wrap;\n",
              "      gap: 12px;\n",
              "    }\n",
              "\n",
              "    .colab-df-convert {\n",
              "      background-color: #E8F0FE;\n",
              "      border: none;\n",
              "      border-radius: 50%;\n",
              "      cursor: pointer;\n",
              "      display: none;\n",
              "      fill: #1967D2;\n",
              "      height: 32px;\n",
              "      padding: 0 0 0 0;\n",
              "      width: 32px;\n",
              "    }\n",
              "\n",
              "    .colab-df-convert:hover {\n",
              "      background-color: #E2EBFA;\n",
              "      box-shadow: 0px 1px 2px rgba(60, 64, 67, 0.3), 0px 1px 3px 1px rgba(60, 64, 67, 0.15);\n",
              "      fill: #174EA6;\n",
              "    }\n",
              "\n",
              "    [theme=dark] .colab-df-convert {\n",
              "      background-color: #3B4455;\n",
              "      fill: #D2E3FC;\n",
              "    }\n",
              "\n",
              "    [theme=dark] .colab-df-convert:hover {\n",
              "      background-color: #434B5C;\n",
              "      box-shadow: 0px 1px 3px 1px rgba(0, 0, 0, 0.15);\n",
              "      filter: drop-shadow(0px 1px 2px rgba(0, 0, 0, 0.3));\n",
              "      fill: #FFFFFF;\n",
              "    }\n",
              "  </style>\n",
              "\n",
              "      <script>\n",
              "        const buttonEl =\n",
              "          document.querySelector('#df-89d76575-f3f0-4f0d-9696-f4087ac02c36 button.colab-df-convert');\n",
              "        buttonEl.style.display =\n",
              "          google.colab.kernel.accessAllowed ? 'block' : 'none';\n",
              "\n",
              "        async function convertToInteractive(key) {\n",
              "          const element = document.querySelector('#df-89d76575-f3f0-4f0d-9696-f4087ac02c36');\n",
              "          const dataTable =\n",
              "            await google.colab.kernel.invokeFunction('convertToInteractive',\n",
              "                                                     [key], {});\n",
              "          if (!dataTable) return;\n",
              "\n",
              "          const docLinkHtml = 'Like what you see? Visit the ' +\n",
              "            '<a target=\"_blank\" href=https://colab.research.google.com/notebooks/data_table.ipynb>data table notebook</a>'\n",
              "            + ' to learn more about interactive tables.';\n",
              "          element.innerHTML = '';\n",
              "          dataTable['output_type'] = 'display_data';\n",
              "          await google.colab.output.renderOutput(dataTable, element);\n",
              "          const docLink = document.createElement('div');\n",
              "          docLink.innerHTML = docLinkHtml;\n",
              "          element.appendChild(docLink);\n",
              "        }\n",
              "      </script>\n",
              "    </div>\n",
              "  </div>\n",
              "  "
            ]
          },
          "metadata": {},
          "execution_count": 15
        }
      ]
    },
    {
      "cell_type": "code",
      "source": [
        "to_plot"
      ],
      "metadata": {
        "colab": {
          "base_uri": "https://localhost:8080/",
          "height": 331
        },
        "id": "Px_m7U2_m8I1",
        "outputId": "d4084fab-3c3c-4ce0-f854-8847c196dccb"
      },
      "execution_count": 16,
      "outputs": [
        {
          "output_type": "execute_result",
          "data": {
            "text/plain": [
              "  DT_VENCIMENTO  Percentuais\n",
              "0    2019-01-31     7.286611\n",
              "1    2019-02-28     8.898547\n",
              "2    2019-03-31    10.878634\n",
              "3    2019-04-30     8.394800\n",
              "4    2019-05-31    10.044556\n",
              "5    2019-06-30     8.534790\n",
              "6    2019-07-31     9.613888\n",
              "7    2019-08-31     9.063069\n",
              "8    2019-09-30     8.536922"
            ],
            "text/html": [
              "\n",
              "  <div id=\"df-3c16df76-52f7-4dd3-8252-994e5c8a8819\">\n",
              "    <div class=\"colab-df-container\">\n",
              "      <div>\n",
              "<style scoped>\n",
              "    .dataframe tbody tr th:only-of-type {\n",
              "        vertical-align: middle;\n",
              "    }\n",
              "\n",
              "    .dataframe tbody tr th {\n",
              "        vertical-align: top;\n",
              "    }\n",
              "\n",
              "    .dataframe thead th {\n",
              "        text-align: right;\n",
              "    }\n",
              "</style>\n",
              "<table border=\"1\" class=\"dataframe\">\n",
              "  <thead>\n",
              "    <tr style=\"text-align: right;\">\n",
              "      <th></th>\n",
              "      <th>DT_VENCIMENTO</th>\n",
              "      <th>Percentuais</th>\n",
              "    </tr>\n",
              "  </thead>\n",
              "  <tbody>\n",
              "    <tr>\n",
              "      <th>0</th>\n",
              "      <td>2019-01-31</td>\n",
              "      <td>7.286611</td>\n",
              "    </tr>\n",
              "    <tr>\n",
              "      <th>1</th>\n",
              "      <td>2019-02-28</td>\n",
              "      <td>8.898547</td>\n",
              "    </tr>\n",
              "    <tr>\n",
              "      <th>2</th>\n",
              "      <td>2019-03-31</td>\n",
              "      <td>10.878634</td>\n",
              "    </tr>\n",
              "    <tr>\n",
              "      <th>3</th>\n",
              "      <td>2019-04-30</td>\n",
              "      <td>8.394800</td>\n",
              "    </tr>\n",
              "    <tr>\n",
              "      <th>4</th>\n",
              "      <td>2019-05-31</td>\n",
              "      <td>10.044556</td>\n",
              "    </tr>\n",
              "    <tr>\n",
              "      <th>5</th>\n",
              "      <td>2019-06-30</td>\n",
              "      <td>8.534790</td>\n",
              "    </tr>\n",
              "    <tr>\n",
              "      <th>6</th>\n",
              "      <td>2019-07-31</td>\n",
              "      <td>9.613888</td>\n",
              "    </tr>\n",
              "    <tr>\n",
              "      <th>7</th>\n",
              "      <td>2019-08-31</td>\n",
              "      <td>9.063069</td>\n",
              "    </tr>\n",
              "    <tr>\n",
              "      <th>8</th>\n",
              "      <td>2019-09-30</td>\n",
              "      <td>8.536922</td>\n",
              "    </tr>\n",
              "  </tbody>\n",
              "</table>\n",
              "</div>\n",
              "      <button class=\"colab-df-convert\" onclick=\"convertToInteractive('df-3c16df76-52f7-4dd3-8252-994e5c8a8819')\"\n",
              "              title=\"Convert this dataframe to an interactive table.\"\n",
              "              style=\"display:none;\">\n",
              "        \n",
              "  <svg xmlns=\"http://www.w3.org/2000/svg\" height=\"24px\"viewBox=\"0 0 24 24\"\n",
              "       width=\"24px\">\n",
              "    <path d=\"M0 0h24v24H0V0z\" fill=\"none\"/>\n",
              "    <path d=\"M18.56 5.44l.94 2.06.94-2.06 2.06-.94-2.06-.94-.94-2.06-.94 2.06-2.06.94zm-11 1L8.5 8.5l.94-2.06 2.06-.94-2.06-.94L8.5 2.5l-.94 2.06-2.06.94zm10 10l.94 2.06.94-2.06 2.06-.94-2.06-.94-.94-2.06-.94 2.06-2.06.94z\"/><path d=\"M17.41 7.96l-1.37-1.37c-.4-.4-.92-.59-1.43-.59-.52 0-1.04.2-1.43.59L10.3 9.45l-7.72 7.72c-.78.78-.78 2.05 0 2.83L4 21.41c.39.39.9.59 1.41.59.51 0 1.02-.2 1.41-.59l7.78-7.78 2.81-2.81c.8-.78.8-2.07 0-2.86zM5.41 20L4 18.59l7.72-7.72 1.47 1.35L5.41 20z\"/>\n",
              "  </svg>\n",
              "      </button>\n",
              "      \n",
              "  <style>\n",
              "    .colab-df-container {\n",
              "      display:flex;\n",
              "      flex-wrap:wrap;\n",
              "      gap: 12px;\n",
              "    }\n",
              "\n",
              "    .colab-df-convert {\n",
              "      background-color: #E8F0FE;\n",
              "      border: none;\n",
              "      border-radius: 50%;\n",
              "      cursor: pointer;\n",
              "      display: none;\n",
              "      fill: #1967D2;\n",
              "      height: 32px;\n",
              "      padding: 0 0 0 0;\n",
              "      width: 32px;\n",
              "    }\n",
              "\n",
              "    .colab-df-convert:hover {\n",
              "      background-color: #E2EBFA;\n",
              "      box-shadow: 0px 1px 2px rgba(60, 64, 67, 0.3), 0px 1px 3px 1px rgba(60, 64, 67, 0.15);\n",
              "      fill: #174EA6;\n",
              "    }\n",
              "\n",
              "    [theme=dark] .colab-df-convert {\n",
              "      background-color: #3B4455;\n",
              "      fill: #D2E3FC;\n",
              "    }\n",
              "\n",
              "    [theme=dark] .colab-df-convert:hover {\n",
              "      background-color: #434B5C;\n",
              "      box-shadow: 0px 1px 3px 1px rgba(0, 0, 0, 0.15);\n",
              "      filter: drop-shadow(0px 1px 2px rgba(0, 0, 0, 0.3));\n",
              "      fill: #FFFFFF;\n",
              "    }\n",
              "  </style>\n",
              "\n",
              "      <script>\n",
              "        const buttonEl =\n",
              "          document.querySelector('#df-3c16df76-52f7-4dd3-8252-994e5c8a8819 button.colab-df-convert');\n",
              "        buttonEl.style.display =\n",
              "          google.colab.kernel.accessAllowed ? 'block' : 'none';\n",
              "\n",
              "        async function convertToInteractive(key) {\n",
              "          const element = document.querySelector('#df-3c16df76-52f7-4dd3-8252-994e5c8a8819');\n",
              "          const dataTable =\n",
              "            await google.colab.kernel.invokeFunction('convertToInteractive',\n",
              "                                                     [key], {});\n",
              "          if (!dataTable) return;\n",
              "\n",
              "          const docLinkHtml = 'Like what you see? Visit the ' +\n",
              "            '<a target=\"_blank\" href=https://colab.research.google.com/notebooks/data_table.ipynb>data table notebook</a>'\n",
              "            + ' to learn more about interactive tables.';\n",
              "          element.innerHTML = '';\n",
              "          dataTable['output_type'] = 'display_data';\n",
              "          await google.colab.output.renderOutput(dataTable, element);\n",
              "          const docLink = document.createElement('div');\n",
              "          docLink.innerHTML = docLinkHtml;\n",
              "          element.appendChild(docLink);\n",
              "        }\n",
              "      </script>\n",
              "    </div>\n",
              "  </div>\n",
              "  "
            ]
          },
          "metadata": {},
          "execution_count": 16
        }
      ]
    },
    {
      "cell_type": "code",
      "source": [
        "sns.barplot(data=to_plot, x='DT_VENCIMENTO', y='Percentuais', color='blue')\n",
        "plt.xticks(rotation=-90)\n",
        "plt.show()"
      ],
      "metadata": {
        "colab": {
          "base_uri": "https://localhost:8080/",
          "height": 438
        },
        "id": "870kW9bnlTmF",
        "outputId": "991ff6f3-5b08-43fd-aca3-9d33c02c9949"
      },
      "execution_count": 47,
      "outputs": [
        {
          "output_type": "display_data",
          "data": {
            "text/plain": [
              "<Figure size 432x288 with 1 Axes>"
            ],
            "image/png": "[encoded data removed]"
          },
          "metadata": {
            "needs_background": "light"
          }
        }
      ]
    },
    {
      "cell_type": "markdown",
      "source": [
        "#### Questão 1.2\n",
        "1.2 – Tendo como referência todos os clientes que tiveram fatura emitida no mês de setembro, gere uma base para esses clientes com os seguintes calculados: <br>\n",
        "• Total de faturas emitidas nos últimos 6 meses (sem contar com a fatura de setembro); <br>\n",
        "• O valor médio de fatura nos últimos 6 meses (sem contar com a fatura de setembro); <br>\n",
        "• Quantidade de vezes que ele ficou sem pagar a fatura anterior nos últimos 6 meses (sem contar com a fatura de setembro). \n"
      ],
      "metadata": {
        "id": "w8NjHIEpqrxY"
      }
    },
    {
      "cell_type": "code",
      "source": [
        "# pegando clientes de setembro\n",
        "# pegando uma dummy var, para não encher a stack da memória\n",
        "# vai que...\n",
        "mask_users = data['DT_VENCIMENTO'].dt.month==9 \n",
        "users_setembro = data[mask_users].ID_CONTA.unique()\n",
        "# esticando com +1, pra que month i e j sejam parâmetros posteriormente\n",
        "\n",
        "# month range\n",
        "# 9-dt-1, é o primeiro mês, fev\n",
        "# 9-1 é o último mês (na maioria dos métodos, não preciso setar isso)\n",
        "month_i, month_j = (9-6)-1, 9-1\n",
        "print(month_i, month_j)\n",
        "\n",
        "# máscara para selecionar os usuários\n",
        "mask = (data['ID_CONTA'].isin(users_setembro) & data['DT_VENCIMENTO'].dt.month.isin(np.arange(month_i, month_j+1)))"
      ],
      "metadata": {
        "colab": {
          "base_uri": "https://localhost:8080/"
        },
        "id": "oinvdgqPqrGT",
        "outputId": "c90cd592-2bc6-4f54-8ecd-3c70438be219"
      },
      "execution_count": 18,
      "outputs": [
        {
          "output_type": "stream",
          "name": "stdout",
          "text": [
            "2 8\n"
          ]
        }
      ]
    },
    {
      "cell_type": "code",
      "source": [
        "# copiando para não mexer na referência\n",
        "# dataframe contendo as informações para montar a base.\n",
        "data3 = data[mask].copy().reset_index(drop=True)\n",
        "data3"
      ],
      "metadata": {
        "id": "DgI7x1P4eLAd",
        "colab": {
          "base_uri": "https://localhost:8080/",
          "height": 423
        },
        "outputId": "152e4b8b-4f09-4fbb-b736-2ba0f92f1f96"
      },
      "execution_count": 19,
      "outputs": [
        {
          "output_type": "execute_result",
          "data": {
            "text/plain": [
              "         ID_CONTA DT_VENCIMENTO  DS_ROLAGEM  VL_FATURA\n",
              "0         1615898    2019-02-01           0      63.03\n",
              "1         1615901    2019-02-01           0      82.28\n",
              "2         1615947    2019-02-01           0      30.75\n",
              "3         1615960    2019-02-01           0      93.82\n",
              "4         1615981    2019-02-01           0      73.28\n",
              "...           ...           ...         ...        ...\n",
              "1368027   1624839    2019-08-08           0     333.15\n",
              "1368028   1624841    2019-08-08           1    1467.05\n",
              "1368029   1624848    2019-08-08           0    1189.15\n",
              "1368030   1624878    2019-08-08           0     281.14\n",
              "1368031   1624884    2019-08-08           0     313.00\n",
              "\n",
              "[1368032 rows x 4 columns]"
            ],
            "text/html": [
              "\n",
              "  <div id=\"df-3ee6f333-bd6b-4599-9bae-be6c82207214\">\n",
              "    <div class=\"colab-df-container\">\n",
              "      <div>\n",
              "<style scoped>\n",
              "    .dataframe tbody tr th:only-of-type {\n",
              "        vertical-align: middle;\n",
              "    }\n",
              "\n",
              "    .dataframe tbody tr th {\n",
              "        vertical-align: top;\n",
              "    }\n",
              "\n",
              "    .dataframe thead th {\n",
              "        text-align: right;\n",
              "    }\n",
              "</style>\n",
              "<table border=\"1\" class=\"dataframe\">\n",
              "  <thead>\n",
              "    <tr style=\"text-align: right;\">\n",
              "      <th></th>\n",
              "      <th>ID_CONTA</th>\n",
              "      <th>DT_VENCIMENTO</th>\n",
              "      <th>DS_ROLAGEM</th>\n",
              "      <th>VL_FATURA</th>\n",
              "    </tr>\n",
              "  </thead>\n",
              "  <tbody>\n",
              "    <tr>\n",
              "      <th>0</th>\n",
              "      <td>1615898</td>\n",
              "      <td>2019-02-01</td>\n",
              "      <td>0</td>\n",
              "      <td>63.03</td>\n",
              "    </tr>\n",
              "    <tr>\n",
              "      <th>1</th>\n",
              "      <td>1615901</td>\n",
              "      <td>2019-02-01</td>\n",
              "      <td>0</td>\n",
              "      <td>82.28</td>\n",
              "    </tr>\n",
              "    <tr>\n",
              "      <th>2</th>\n",
              "      <td>1615947</td>\n",
              "      <td>2019-02-01</td>\n",
              "      <td>0</td>\n",
              "      <td>30.75</td>\n",
              "    </tr>\n",
              "    <tr>\n",
              "      <th>3</th>\n",
              "      <td>1615960</td>\n",
              "      <td>2019-02-01</td>\n",
              "      <td>0</td>\n",
              "      <td>93.82</td>\n",
              "    </tr>\n",
              "    <tr>\n",
              "      <th>4</th>\n",
              "      <td>1615981</td>\n",
              "      <td>2019-02-01</td>\n",
              "      <td>0</td>\n",
              "      <td>73.28</td>\n",
              "    </tr>\n",
              "    <tr>\n",
              "      <th>...</th>\n",
              "      <td>...</td>\n",
              "      <td>...</td>\n",
              "      <td>...</td>\n",
              "      <td>...</td>\n",
              "    </tr>\n",
              "    <tr>\n",
              "      <th>1368027</th>\n",
              "      <td>1624839</td>\n",
              "      <td>2019-08-08</td>\n",
              "      <td>0</td>\n",
              "      <td>333.15</td>\n",
              "    </tr>\n",
              "    <tr>\n",
              "      <th>1368028</th>\n",
              "      <td>1624841</td>\n",
              "      <td>2019-08-08</td>\n",
              "      <td>1</td>\n",
              "      <td>1467.05</td>\n",
              "    </tr>\n",
              "    <tr>\n",
              "      <th>1368029</th>\n",
              "      <td>1624848</td>\n",
              "      <td>2019-08-08</td>\n",
              "      <td>0</td>\n",
              "      <td>1189.15</td>\n",
              "    </tr>\n",
              "    <tr>\n",
              "      <th>1368030</th>\n",
              "      <td>1624878</td>\n",
              "      <td>2019-08-08</td>\n",
              "      <td>0</td>\n",
              "      <td>281.14</td>\n",
              "    </tr>\n",
              "    <tr>\n",
              "      <th>1368031</th>\n",
              "      <td>1624884</td>\n",
              "      <td>2019-08-08</td>\n",
              "      <td>0</td>\n",
              "      <td>313.00</td>\n",
              "    </tr>\n",
              "  </tbody>\n",
              "</table>\n",
              "<p>1368032 rows × 4 columns</p>\n",
              "</div>\n",
              "      <button class=\"colab-df-convert\" onclick=\"convertToInteractive('df-3ee6f333-bd6b-4599-9bae-be6c82207214')\"\n",
              "              title=\"Convert this dataframe to an interactive table.\"\n",
              "              style=\"display:none;\">\n",
              "        \n",
              "  <svg xmlns=\"http://www.w3.org/2000/svg\" height=\"24px\"viewBox=\"0 0 24 24\"\n",
              "       width=\"24px\">\n",
              "    <path d=\"M0 0h24v24H0V0z\" fill=\"none\"/>\n",
              "    <path d=\"M18.56 5.44l.94 2.06.94-2.06 2.06-.94-2.06-.94-.94-2.06-.94 2.06-2.06.94zm-11 1L8.5 8.5l.94-2.06 2.06-.94-2.06-.94L8.5 2.5l-.94 2.06-2.06.94zm10 10l.94 2.06.94-2.06 2.06-.94-2.06-.94-.94-2.06-.94 2.06-2.06.94z\"/><path d=\"M17.41 7.96l-1.37-1.37c-.4-.4-.92-.59-1.43-.59-.52 0-1.04.2-1.43.59L10.3 9.45l-7.72 7.72c-.78.78-.78 2.05 0 2.83L4 21.41c.39.39.9.59 1.41.59.51 0 1.02-.2 1.41-.59l7.78-7.78 2.81-2.81c.8-.78.8-2.07 0-2.86zM5.41 20L4 18.59l7.72-7.72 1.47 1.35L5.41 20z\"/>\n",
              "  </svg>\n",
              "      </button>\n",
              "      \n",
              "  <style>\n",
              "    .colab-df-container {\n",
              "      display:flex;\n",
              "      flex-wrap:wrap;\n",
              "      gap: 12px;\n",
              "    }\n",
              "\n",
              "    .colab-df-convert {\n",
              "      background-color: #E8F0FE;\n",
              "      border: none;\n",
              "      border-radius: 50%;\n",
              "      cursor: pointer;\n",
              "      display: none;\n",
              "      fill: #1967D2;\n",
              "      height: 32px;\n",
              "      padding: 0 0 0 0;\n",
              "      width: 32px;\n",
              "    }\n",
              "\n",
              "    .colab-df-convert:hover {\n",
              "      background-color: #E2EBFA;\n",
              "      box-shadow: 0px 1px 2px rgba(60, 64, 67, 0.3), 0px 1px 3px 1px rgba(60, 64, 67, 0.15);\n",
              "      fill: #174EA6;\n",
              "    }\n",
              "\n",
              "    [theme=dark] .colab-df-convert {\n",
              "      background-color: #3B4455;\n",
              "      fill: #D2E3FC;\n",
              "    }\n",
              "\n",
              "    [theme=dark] .colab-df-convert:hover {\n",
              "      background-color: #434B5C;\n",
              "      box-shadow: 0px 1px 3px 1px rgba(0, 0, 0, 0.15);\n",
              "      filter: drop-shadow(0px 1px 2px rgba(0, 0, 0, 0.3));\n",
              "      fill: #FFFFFF;\n",
              "    }\n",
              "  </style>\n",
              "\n",
              "      <script>\n",
              "        const buttonEl =\n",
              "          document.querySelector('#df-3ee6f333-bd6b-4599-9bae-be6c82207214 button.colab-df-convert');\n",
              "        buttonEl.style.display =\n",
              "          google.colab.kernel.accessAllowed ? 'block' : 'none';\n",
              "\n",
              "        async function convertToInteractive(key) {\n",
              "          const element = document.querySelector('#df-3ee6f333-bd6b-4599-9bae-be6c82207214');\n",
              "          const dataTable =\n",
              "            await google.colab.kernel.invokeFunction('convertToInteractive',\n",
              "                                                     [key], {});\n",
              "          if (!dataTable) return;\n",
              "\n",
              "          const docLinkHtml = 'Like what you see? Visit the ' +\n",
              "            '<a target=\"_blank\" href=https://colab.research.google.com/notebooks/data_table.ipynb>data table notebook</a>'\n",
              "            + ' to learn more about interactive tables.';\n",
              "          element.innerHTML = '';\n",
              "          dataTable['output_type'] = 'display_data';\n",
              "          await google.colab.output.renderOutput(dataTable, element);\n",
              "          const docLink = document.createElement('div');\n",
              "          docLink.innerHTML = docLinkHtml;\n",
              "          element.appendChild(docLink);\n",
              "        }\n",
              "      </script>\n",
              "    </div>\n",
              "  </div>\n",
              "  "
            ]
          },
          "metadata": {},
          "execution_count": 19
        }
      ]
    },
    {
      "cell_type": "code",
      "source": [
        "from collections import Counter"
      ],
      "metadata": {
        "id": "AEBUnUX4rNrL"
      },
      "execution_count": 20,
      "outputs": []
    },
    {
      "cell_type": "code",
      "source": [
        "d4 = data3.groupby(['ID_CONTA']).agg({'DT_VENCIMENTO': 'count',\n",
        "                               'VL_FATURA': 'mean',\n",
        "                               'DS_ROLAGEM': 'sum'})"
      ],
      "metadata": {
        "id": "i4DXzEUJqYlk"
      },
      "execution_count": 21,
      "outputs": []
    },
    {
      "cell_type": "code",
      "source": [
        "data_new = data[mask_users].merge(d4, on='ID_CONTA', how='right', indicator=True)"
      ],
      "metadata": {
        "id": "Va-djeLBvM3n"
      },
      "execution_count": 22,
      "outputs": []
    },
    {
      "cell_type": "code",
      "source": [
        "data_new[data_new._merge != 'both']\n"
      ],
      "metadata": {
        "colab": {
          "base_uri": "https://localhost:8080/",
          "height": 93
        },
        "id": "B7YAx2G23v1q",
        "outputId": "517084e4-4ce6-4483-da76-2bb71762276e"
      },
      "execution_count": 23,
      "outputs": [
        {
          "output_type": "execute_result",
          "data": {
            "text/plain": [
              "Empty DataFrame\n",
              "Columns: [ID_CONTA, DT_VENCIMENTO_x, DS_ROLAGEM_x, VL_FATURA_x, DT_VENCIMENTO_y, VL_FATURA_y, DS_ROLAGEM_y, _merge]\n",
              "Index: []"
            ],
            "text/html": [
              "\n",
              "  <div id=\"df-dadb1824-cf11-4e4d-9ff8-418e0f45b446\">\n",
              "    <div class=\"colab-df-container\">\n",
              "      <div>\n",
              "<style scoped>\n",
              "    .dataframe tbody tr th:only-of-type {\n",
              "        vertical-align: middle;\n",
              "    }\n",
              "\n",
              "    .dataframe tbody tr th {\n",
              "        vertical-align: top;\n",
              "    }\n",
              "\n",
              "    .dataframe thead th {\n",
              "        text-align: right;\n",
              "    }\n",
              "</style>\n",
              "<table border=\"1\" class=\"dataframe\">\n",
              "  <thead>\n",
              "    <tr style=\"text-align: right;\">\n",
              "      <th></th>\n",
              "      <th>ID_CONTA</th>\n",
              "      <th>DT_VENCIMENTO_x</th>\n",
              "      <th>DS_ROLAGEM_x</th>\n",
              "      <th>VL_FATURA_x</th>\n",
              "      <th>DT_VENCIMENTO_y</th>\n",
              "      <th>VL_FATURA_y</th>\n",
              "      <th>DS_ROLAGEM_y</th>\n",
              "      <th>_merge</th>\n",
              "    </tr>\n",
              "  </thead>\n",
              "  <tbody>\n",
              "  </tbody>\n",
              "</table>\n",
              "</div>\n",
              "      <button class=\"colab-df-convert\" onclick=\"convertToInteractive('df-dadb1824-cf11-4e4d-9ff8-418e0f45b446')\"\n",
              "              title=\"Convert this dataframe to an interactive table.\"\n",
              "              style=\"display:none;\">\n",
              "        \n",
              "  <svg xmlns=\"http://www.w3.org/2000/svg\" height=\"24px\"viewBox=\"0 0 24 24\"\n",
              "       width=\"24px\">\n",
              "    <path d=\"M0 0h24v24H0V0z\" fill=\"none\"/>\n",
              "    <path d=\"M18.56 5.44l.94 2.06.94-2.06 2.06-.94-2.06-.94-.94-2.06-.94 2.06-2.06.94zm-11 1L8.5 8.5l.94-2.06 2.06-.94-2.06-.94L8.5 2.5l-.94 2.06-2.06.94zm10 10l.94 2.06.94-2.06 2.06-.94-2.06-.94-.94-2.06-.94 2.06-2.06.94z\"/><path d=\"M17.41 7.96l-1.37-1.37c-.4-.4-.92-.59-1.43-.59-.52 0-1.04.2-1.43.59L10.3 9.45l-7.72 7.72c-.78.78-.78 2.05 0 2.83L4 21.41c.39.39.9.59 1.41.59.51 0 1.02-.2 1.41-.59l7.78-7.78 2.81-2.81c.8-.78.8-2.07 0-2.86zM5.41 20L4 18.59l7.72-7.72 1.47 1.35L5.41 20z\"/>\n",
              "  </svg>\n",
              "      </button>\n",
              "      \n",
              "  <style>\n",
              "    .colab-df-container {\n",
              "      display:flex;\n",
              "      flex-wrap:wrap;\n",
              "      gap: 12px;\n",
              "    }\n",
              "\n",
              "    .colab-df-convert {\n",
              "      background-color: #E8F0FE;\n",
              "      border: none;\n",
              "      border-radius: 50%;\n",
              "      cursor: pointer;\n",
              "      display: none;\n",
              "      fill: #1967D2;\n",
              "      height: 32px;\n",
              "      padding: 0 0 0 0;\n",
              "      width: 32px;\n",
              "    }\n",
              "\n",
              "    .colab-df-convert:hover {\n",
              "      background-color: #E2EBFA;\n",
              "      box-shadow: 0px 1px 2px rgba(60, 64, 67, 0.3), 0px 1px 3px 1px rgba(60, 64, 67, 0.15);\n",
              "      fill: #174EA6;\n",
              "    }\n",
              "\n",
              "    [theme=dark] .colab-df-convert {\n",
              "      background-color: #3B4455;\n",
              "      fill: #D2E3FC;\n",
              "    }\n",
              "\n",
              "    [theme=dark] .colab-df-convert:hover {\n",
              "      background-color: #434B5C;\n",
              "      box-shadow: 0px 1px 3px 1px rgba(0, 0, 0, 0.15);\n",
              "      filter: drop-shadow(0px 1px 2px rgba(0, 0, 0, 0.3));\n",
              "      fill: #FFFFFF;\n",
              "    }\n",
              "  </style>\n",
              "\n",
              "      <script>\n",
              "        const buttonEl =\n",
              "          document.querySelector('#df-dadb1824-cf11-4e4d-9ff8-418e0f45b446 button.colab-df-convert');\n",
              "        buttonEl.style.display =\n",
              "          google.colab.kernel.accessAllowed ? 'block' : 'none';\n",
              "\n",
              "        async function convertToInteractive(key) {\n",
              "          const element = document.querySelector('#df-dadb1824-cf11-4e4d-9ff8-418e0f45b446');\n",
              "          const dataTable =\n",
              "            await google.colab.kernel.invokeFunction('convertToInteractive',\n",
              "                                                     [key], {});\n",
              "          if (!dataTable) return;\n",
              "\n",
              "          const docLinkHtml = 'Like what you see? Visit the ' +\n",
              "            '<a target=\"_blank\" href=https://colab.research.google.com/notebooks/data_table.ipynb>data table notebook</a>'\n",
              "            + ' to learn more about interactive tables.';\n",
              "          element.innerHTML = '';\n",
              "          dataTable['output_type'] = 'display_data';\n",
              "          await google.colab.output.renderOutput(dataTable, element);\n",
              "          const docLink = document.createElement('div');\n",
              "          docLink.innerHTML = docLinkHtml;\n",
              "          element.appendChild(docLink);\n",
              "        }\n",
              "      </script>\n",
              "    </div>\n",
              "  </div>\n",
              "  "
            ]
          },
          "metadata": {},
          "execution_count": 23
        }
      ]
    },
    {
      "cell_type": "markdown",
      "source": [
        "Checking wether the left joined users/registries are from users who were only accounted for september."
      ],
      "metadata": {
        "id": "E5dSe8qa2w-F"
      }
    },
    {
      "cell_type": "code",
      "source": [
        "data_new[data_new._merge != 'both'].groupby('ID_CONTA').agg({'DT_VENCIMENTO_x': 'count'})"
      ],
      "metadata": {
        "colab": {
          "base_uri": "https://localhost:8080/",
          "height": 81
        },
        "id": "lDrWVgRdx1bf",
        "outputId": "e29fece3-1b38-4e0f-928b-cae9bde2f52d"
      },
      "execution_count": 24,
      "outputs": [
        {
          "output_type": "execute_result",
          "data": {
            "text/plain": [
              "Empty DataFrame\n",
              "Columns: [DT_VENCIMENTO_x]\n",
              "Index: []"
            ],
            "text/html": [
              "\n",
              "  <div id=\"df-0c8faf74-9877-4840-94a6-9f3be11c2395\">\n",
              "    <div class=\"colab-df-container\">\n",
              "      <div>\n",
              "<style scoped>\n",
              "    .dataframe tbody tr th:only-of-type {\n",
              "        vertical-align: middle;\n",
              "    }\n",
              "\n",
              "    .dataframe tbody tr th {\n",
              "        vertical-align: top;\n",
              "    }\n",
              "\n",
              "    .dataframe thead th {\n",
              "        text-align: right;\n",
              "    }\n",
              "</style>\n",
              "<table border=\"1\" class=\"dataframe\">\n",
              "  <thead>\n",
              "    <tr style=\"text-align: right;\">\n",
              "      <th></th>\n",
              "      <th>DT_VENCIMENTO_x</th>\n",
              "    </tr>\n",
              "    <tr>\n",
              "      <th>ID_CONTA</th>\n",
              "      <th></th>\n",
              "    </tr>\n",
              "  </thead>\n",
              "  <tbody>\n",
              "  </tbody>\n",
              "</table>\n",
              "</div>\n",
              "      <button class=\"colab-df-convert\" onclick=\"convertToInteractive('df-0c8faf74-9877-4840-94a6-9f3be11c2395')\"\n",
              "              title=\"Convert this dataframe to an interactive table.\"\n",
              "              style=\"display:none;\">\n",
              "        \n",
              "  <svg xmlns=\"http://www.w3.org/2000/svg\" height=\"24px\"viewBox=\"0 0 24 24\"\n",
              "       width=\"24px\">\n",
              "    <path d=\"M0 0h24v24H0V0z\" fill=\"none\"/>\n",
              "    <path d=\"M18.56 5.44l.94 2.06.94-2.06 2.06-.94-2.06-.94-.94-2.06-.94 2.06-2.06.94zm-11 1L8.5 8.5l.94-2.06 2.06-.94-2.06-.94L8.5 2.5l-.94 2.06-2.06.94zm10 10l.94 2.06.94-2.06 2.06-.94-2.06-.94-.94-2.06-.94 2.06-2.06.94z\"/><path d=\"M17.41 7.96l-1.37-1.37c-.4-.4-.92-.59-1.43-.59-.52 0-1.04.2-1.43.59L10.3 9.45l-7.72 7.72c-.78.78-.78 2.05 0 2.83L4 21.41c.39.39.9.59 1.41.59.51 0 1.02-.2 1.41-.59l7.78-7.78 2.81-2.81c.8-.78.8-2.07 0-2.86zM5.41 20L4 18.59l7.72-7.72 1.47 1.35L5.41 20z\"/>\n",
              "  </svg>\n",
              "      </button>\n",
              "      \n",
              "  <style>\n",
              "    .colab-df-container {\n",
              "      display:flex;\n",
              "      flex-wrap:wrap;\n",
              "      gap: 12px;\n",
              "    }\n",
              "\n",
              "    .colab-df-convert {\n",
              "      background-color: #E8F0FE;\n",
              "      border: none;\n",
              "      border-radius: 50%;\n",
              "      cursor: pointer;\n",
              "      display: none;\n",
              "      fill: #1967D2;\n",
              "      height: 32px;\n",
              "      padding: 0 0 0 0;\n",
              "      width: 32px;\n",
              "    }\n",
              "\n",
              "    .colab-df-convert:hover {\n",
              "      background-color: #E2EBFA;\n",
              "      box-shadow: 0px 1px 2px rgba(60, 64, 67, 0.3), 0px 1px 3px 1px rgba(60, 64, 67, 0.15);\n",
              "      fill: #174EA6;\n",
              "    }\n",
              "\n",
              "    [theme=dark] .colab-df-convert {\n",
              "      background-color: #3B4455;\n",
              "      fill: #D2E3FC;\n",
              "    }\n",
              "\n",
              "    [theme=dark] .colab-df-convert:hover {\n",
              "      background-color: #434B5C;\n",
              "      box-shadow: 0px 1px 3px 1px rgba(0, 0, 0, 0.15);\n",
              "      filter: drop-shadow(0px 1px 2px rgba(0, 0, 0, 0.3));\n",
              "      fill: #FFFFFF;\n",
              "    }\n",
              "  </style>\n",
              "\n",
              "      <script>\n",
              "        const buttonEl =\n",
              "          document.querySelector('#df-0c8faf74-9877-4840-94a6-9f3be11c2395 button.colab-df-convert');\n",
              "        buttonEl.style.display =\n",
              "          google.colab.kernel.accessAllowed ? 'block' : 'none';\n",
              "\n",
              "        async function convertToInteractive(key) {\n",
              "          const element = document.querySelector('#df-0c8faf74-9877-4840-94a6-9f3be11c2395');\n",
              "          const dataTable =\n",
              "            await google.colab.kernel.invokeFunction('convertToInteractive',\n",
              "                                                     [key], {});\n",
              "          if (!dataTable) return;\n",
              "\n",
              "          const docLinkHtml = 'Like what you see? Visit the ' +\n",
              "            '<a target=\"_blank\" href=https://colab.research.google.com/notebooks/data_table.ipynb>data table notebook</a>'\n",
              "            + ' to learn more about interactive tables.';\n",
              "          element.innerHTML = '';\n",
              "          dataTable['output_type'] = 'display_data';\n",
              "          await google.colab.output.renderOutput(dataTable, element);\n",
              "          const docLink = document.createElement('div');\n",
              "          docLink.innerHTML = docLinkHtml;\n",
              "          element.appendChild(docLink);\n",
              "        }\n",
              "      </script>\n",
              "    </div>\n",
              "  </div>\n",
              "  "
            ]
          },
          "metadata": {},
          "execution_count": 24
        }
      ]
    },
    {
      "cell_type": "code",
      "source": [
        "data_new[data_new.ID_CONTA == 1734275]"
      ],
      "metadata": {
        "colab": {
          "base_uri": "https://localhost:8080/",
          "height": 93
        },
        "id": "zaz4P_QFzjCD",
        "outputId": "4a46a4c1-ee4a-47aa-9d45-99b1077d5e7e"
      },
      "execution_count": 25,
      "outputs": [
        {
          "output_type": "execute_result",
          "data": {
            "text/plain": [
              "Empty DataFrame\n",
              "Columns: [ID_CONTA, DT_VENCIMENTO_x, DS_ROLAGEM_x, VL_FATURA_x, DT_VENCIMENTO_y, VL_FATURA_y, DS_ROLAGEM_y, _merge]\n",
              "Index: []"
            ],
            "text/html": [
              "\n",
              "  <div id=\"df-06f9f8dc-ff25-41fd-9e55-5431b99be17d\">\n",
              "    <div class=\"colab-df-container\">\n",
              "      <div>\n",
              "<style scoped>\n",
              "    .dataframe tbody tr th:only-of-type {\n",
              "        vertical-align: middle;\n",
              "    }\n",
              "\n",
              "    .dataframe tbody tr th {\n",
              "        vertical-align: top;\n",
              "    }\n",
              "\n",
              "    .dataframe thead th {\n",
              "        text-align: right;\n",
              "    }\n",
              "</style>\n",
              "<table border=\"1\" class=\"dataframe\">\n",
              "  <thead>\n",
              "    <tr style=\"text-align: right;\">\n",
              "      <th></th>\n",
              "      <th>ID_CONTA</th>\n",
              "      <th>DT_VENCIMENTO_x</th>\n",
              "      <th>DS_ROLAGEM_x</th>\n",
              "      <th>VL_FATURA_x</th>\n",
              "      <th>DT_VENCIMENTO_y</th>\n",
              "      <th>VL_FATURA_y</th>\n",
              "      <th>DS_ROLAGEM_y</th>\n",
              "      <th>_merge</th>\n",
              "    </tr>\n",
              "  </thead>\n",
              "  <tbody>\n",
              "  </tbody>\n",
              "</table>\n",
              "</div>\n",
              "      <button class=\"colab-df-convert\" onclick=\"convertToInteractive('df-06f9f8dc-ff25-41fd-9e55-5431b99be17d')\"\n",
              "              title=\"Convert this dataframe to an interactive table.\"\n",
              "              style=\"display:none;\">\n",
              "        \n",
              "  <svg xmlns=\"http://www.w3.org/2000/svg\" height=\"24px\"viewBox=\"0 0 24 24\"\n",
              "       width=\"24px\">\n",
              "    <path d=\"M0 0h24v24H0V0z\" fill=\"none\"/>\n",
              "    <path d=\"M18.56 5.44l.94 2.06.94-2.06 2.06-.94-2.06-.94-.94-2.06-.94 2.06-2.06.94zm-11 1L8.5 8.5l.94-2.06 2.06-.94-2.06-.94L8.5 2.5l-.94 2.06-2.06.94zm10 10l.94 2.06.94-2.06 2.06-.94-2.06-.94-.94-2.06-.94 2.06-2.06.94z\"/><path d=\"M17.41 7.96l-1.37-1.37c-.4-.4-.92-.59-1.43-.59-.52 0-1.04.2-1.43.59L10.3 9.45l-7.72 7.72c-.78.78-.78 2.05 0 2.83L4 21.41c.39.39.9.59 1.41.59.51 0 1.02-.2 1.41-.59l7.78-7.78 2.81-2.81c.8-.78.8-2.07 0-2.86zM5.41 20L4 18.59l7.72-7.72 1.47 1.35L5.41 20z\"/>\n",
              "  </svg>\n",
              "      </button>\n",
              "      \n",
              "  <style>\n",
              "    .colab-df-container {\n",
              "      display:flex;\n",
              "      flex-wrap:wrap;\n",
              "      gap: 12px;\n",
              "    }\n",
              "\n",
              "    .colab-df-convert {\n",
              "      background-color: #E8F0FE;\n",
              "      border: none;\n",
              "      border-radius: 50%;\n",
              "      cursor: pointer;\n",
              "      display: none;\n",
              "      fill: #1967D2;\n",
              "      height: 32px;\n",
              "      padding: 0 0 0 0;\n",
              "      width: 32px;\n",
              "    }\n",
              "\n",
              "    .colab-df-convert:hover {\n",
              "      background-color: #E2EBFA;\n",
              "      box-shadow: 0px 1px 2px rgba(60, 64, 67, 0.3), 0px 1px 3px 1px rgba(60, 64, 67, 0.15);\n",
              "      fill: #174EA6;\n",
              "    }\n",
              "\n",
              "    [theme=dark] .colab-df-convert {\n",
              "      background-color: #3B4455;\n",
              "      fill: #D2E3FC;\n",
              "    }\n",
              "\n",
              "    [theme=dark] .colab-df-convert:hover {\n",
              "      background-color: #434B5C;\n",
              "      box-shadow: 0px 1px 3px 1px rgba(0, 0, 0, 0.15);\n",
              "      filter: drop-shadow(0px 1px 2px rgba(0, 0, 0, 0.3));\n",
              "      fill: #FFFFFF;\n",
              "    }\n",
              "  </style>\n",
              "\n",
              "      <script>\n",
              "        const buttonEl =\n",
              "          document.querySelector('#df-06f9f8dc-ff25-41fd-9e55-5431b99be17d button.colab-df-convert');\n",
              "        buttonEl.style.display =\n",
              "          google.colab.kernel.accessAllowed ? 'block' : 'none';\n",
              "\n",
              "        async function convertToInteractive(key) {\n",
              "          const element = document.querySelector('#df-06f9f8dc-ff25-41fd-9e55-5431b99be17d');\n",
              "          const dataTable =\n",
              "            await google.colab.kernel.invokeFunction('convertToInteractive',\n",
              "                                                     [key], {});\n",
              "          if (!dataTable) return;\n",
              "\n",
              "          const docLinkHtml = 'Like what you see? Visit the ' +\n",
              "            '<a target=\"_blank\" href=https://colab.research.google.com/notebooks/data_table.ipynb>data table notebook</a>'\n",
              "            + ' to learn more about interactive tables.';\n",
              "          element.innerHTML = '';\n",
              "          dataTable['output_type'] = 'display_data';\n",
              "          await google.colab.output.renderOutput(dataTable, element);\n",
              "          const docLink = document.createElement('div');\n",
              "          docLink.innerHTML = docLinkHtml;\n",
              "          element.appendChild(docLink);\n",
              "        }\n",
              "      </script>\n",
              "    </div>\n",
              "  </div>\n",
              "  "
            ]
          },
          "metadata": {},
          "execution_count": 25
        }
      ]
    },
    {
      "cell_type": "markdown",
      "source": [
        "**Conclusões Preliminares**\n",
        "Usuários que só faturaram em setembro estão fora da contagem e da base oficial. No enunciado da questão, é explicitado que não deve-se contar os registros de setembro, somente os usuarios. <br>\n",
        "**Passos necessários agora**\n",
        "\n",
        "1- Dropar as colunas que vieram de right ou left. <br>\n",
        "2- Modificar os nomes de colunas pra adequar ao que a questão pede. <br>"
      ],
      "metadata": {
        "id": "BRZ7XWy739xB"
      }
    },
    {
      "cell_type": "code",
      "source": [
        "data_new.rename(columns={'DT_VENCIMENTO_x': 'DT_VENCIMENTO',\n",
        "                 'DT_VENCIMENTO_y': 'QTD_FATURA_ULT_6M',\n",
        "                 'DS_ROLAGEM_x': 'DS_ROLAGEM',\n",
        "                 'DS_ROLAGEM_y': 'QTD_FATURA_ULT_6M_FX1',\n",
        "                 'VL_FATURA_x': 'VL_FATURA',\n",
        "                 'VL_FATURA_y': 'VL_MEDIO_FATURA'},\n",
        "                inplace=True)\n",
        "data_new.drop('_merge',axis='columns', inplace=True)"
      ],
      "metadata": {
        "id": "5uIXwIAYCwho"
      },
      "execution_count": 26,
      "outputs": []
    },
    {
      "cell_type": "markdown",
      "source": [
        "**Resposta Qt 1.2**\n",
        "\n",
        "A base de dados resultante dos protocolos requeridos é:"
      ],
      "metadata": {
        "id": "_6wvNDElSYz4"
      }
    },
    {
      "cell_type": "code",
      "source": [
        "data_new"
      ],
      "metadata": {
        "colab": {
          "base_uri": "https://localhost:8080/",
          "height": 487
        },
        "id": "bT4oEDfCRo55",
        "outputId": "e339c927-aa34-464c-ba6a-34b448fd86b6"
      },
      "execution_count": 27,
      "outputs": [
        {
          "output_type": "execute_result",
          "data": {
            "text/plain": [
              "        ID_CONTA DT_VENCIMENTO  DS_ROLAGEM  VL_FATURA  QTD_FATURA_ULT_6M  \\\n",
              "0          27717    2019-09-20           0     878.89                  7   \n",
              "1          27789    2019-09-10           0     848.69                  7   \n",
              "2          30256    2019-09-08           0     180.95                  7   \n",
              "3          35473    2019-09-10           0     808.52                  7   \n",
              "4          35510    2019-09-05           0    1608.72                  7   \n",
              "...          ...           ...         ...        ...                ...   \n",
              "240546   1733074    2019-09-23           1     178.32                  1   \n",
              "240547   1733098    2019-09-23           0     204.38                  1   \n",
              "240548   1733273    2019-09-23           0     492.49                  1   \n",
              "240549   1733278    2019-09-23           0     138.58                  1   \n",
              "240550   1733288    2019-09-23           0      69.66                  1   \n",
              "\n",
              "        VL_MEDIO_FATURA  QTD_FATURA_ULT_6M_FX1  \n",
              "0           1638.812857                      0  \n",
              "1            945.460000                      0  \n",
              "2            443.702857                      0  \n",
              "3            898.972857                      0  \n",
              "4           1308.940000                      0  \n",
              "...                 ...                    ...  \n",
              "240546       110.690000                      0  \n",
              "240547       204.370000                      0  \n",
              "240548       121.820000                      0  \n",
              "240549       107.690000                      0  \n",
              "240550        69.660000                      0  \n",
              "\n",
              "[240551 rows x 7 columns]"
            ],
            "text/html": [
              "\n",
              "  <div id=\"df-6bab1da0-c225-4d59-91c0-685b7934f6c4\">\n",
              "    <div class=\"colab-df-container\">\n",
              "      <div>\n",
              "<style scoped>\n",
              "    .dataframe tbody tr th:only-of-type {\n",
              "        vertical-align: middle;\n",
              "    }\n",
              "\n",
              "    .dataframe tbody tr th {\n",
              "        vertical-align: top;\n",
              "    }\n",
              "\n",
              "    .dataframe thead th {\n",
              "        text-align: right;\n",
              "    }\n",
              "</style>\n",
              "<table border=\"1\" class=\"dataframe\">\n",
              "  <thead>\n",
              "    <tr style=\"text-align: right;\">\n",
              "      <th></th>\n",
              "      <th>ID_CONTA</th>\n",
              "      <th>DT_VENCIMENTO</th>\n",
              "      <th>DS_ROLAGEM</th>\n",
              "      <th>VL_FATURA</th>\n",
              "      <th>QTD_FATURA_ULT_6M</th>\n",
              "      <th>VL_MEDIO_FATURA</th>\n",
              "      <th>QTD_FATURA_ULT_6M_FX1</th>\n",
              "    </tr>\n",
              "  </thead>\n",
              "  <tbody>\n",
              "    <tr>\n",
              "      <th>0</th>\n",
              "      <td>27717</td>\n",
              "      <td>2019-09-20</td>\n",
              "      <td>0</td>\n",
              "      <td>878.89</td>\n",
              "      <td>7</td>\n",
              "      <td>1638.812857</td>\n",
              "      <td>0</td>\n",
              "    </tr>\n",
              "    <tr>\n",
              "      <th>1</th>\n",
              "      <td>27789</td>\n",
              "      <td>2019-09-10</td>\n",
              "      <td>0</td>\n",
              "      <td>848.69</td>\n",
              "      <td>7</td>\n",
              "      <td>945.460000</td>\n",
              "      <td>0</td>\n",
              "    </tr>\n",
              "    <tr>\n",
              "      <th>2</th>\n",
              "      <td>30256</td>\n",
              "      <td>2019-09-08</td>\n",
              "      <td>0</td>\n",
              "      <td>180.95</td>\n",
              "      <td>7</td>\n",
              "      <td>443.702857</td>\n",
              "      <td>0</td>\n",
              "    </tr>\n",
              "    <tr>\n",
              "      <th>3</th>\n",
              "      <td>35473</td>\n",
              "      <td>2019-09-10</td>\n",
              "      <td>0</td>\n",
              "      <td>808.52</td>\n",
              "      <td>7</td>\n",
              "      <td>898.972857</td>\n",
              "      <td>0</td>\n",
              "    </tr>\n",
              "    <tr>\n",
              "      <th>4</th>\n",
              "      <td>35510</td>\n",
              "      <td>2019-09-05</td>\n",
              "      <td>0</td>\n",
              "      <td>1608.72</td>\n",
              "      <td>7</td>\n",
              "      <td>1308.940000</td>\n",
              "      <td>0</td>\n",
              "    </tr>\n",
              "    <tr>\n",
              "      <th>...</th>\n",
              "      <td>...</td>\n",
              "      <td>...</td>\n",
              "      <td>...</td>\n",
              "      <td>...</td>\n",
              "      <td>...</td>\n",
              "      <td>...</td>\n",
              "      <td>...</td>\n",
              "    </tr>\n",
              "    <tr>\n",
              "      <th>240546</th>\n",
              "      <td>1733074</td>\n",
              "      <td>2019-09-23</td>\n",
              "      <td>1</td>\n",
              "      <td>178.32</td>\n",
              "      <td>1</td>\n",
              "      <td>110.690000</td>\n",
              "      <td>0</td>\n",
              "    </tr>\n",
              "    <tr>\n",
              "      <th>240547</th>\n",
              "      <td>1733098</td>\n",
              "      <td>2019-09-23</td>\n",
              "      <td>0</td>\n",
              "      <td>204.38</td>\n",
              "      <td>1</td>\n",
              "      <td>204.370000</td>\n",
              "      <td>0</td>\n",
              "    </tr>\n",
              "    <tr>\n",
              "      <th>240548</th>\n",
              "      <td>1733273</td>\n",
              "      <td>2019-09-23</td>\n",
              "      <td>0</td>\n",
              "      <td>492.49</td>\n",
              "      <td>1</td>\n",
              "      <td>121.820000</td>\n",
              "      <td>0</td>\n",
              "    </tr>\n",
              "    <tr>\n",
              "      <th>240549</th>\n",
              "      <td>1733278</td>\n",
              "      <td>2019-09-23</td>\n",
              "      <td>0</td>\n",
              "      <td>138.58</td>\n",
              "      <td>1</td>\n",
              "      <td>107.690000</td>\n",
              "      <td>0</td>\n",
              "    </tr>\n",
              "    <tr>\n",
              "      <th>240550</th>\n",
              "      <td>1733288</td>\n",
              "      <td>2019-09-23</td>\n",
              "      <td>0</td>\n",
              "      <td>69.66</td>\n",
              "      <td>1</td>\n",
              "      <td>69.660000</td>\n",
              "      <td>0</td>\n",
              "    </tr>\n",
              "  </tbody>\n",
              "</table>\n",
              "<p>240551 rows × 7 columns</p>\n",
              "</div>\n",
              "      <button class=\"colab-df-convert\" onclick=\"convertToInteractive('df-6bab1da0-c225-4d59-91c0-685b7934f6c4')\"\n",
              "              title=\"Convert this dataframe to an interactive table.\"\n",
              "              style=\"display:none;\">\n",
              "        \n",
              "  <svg xmlns=\"http://www.w3.org/2000/svg\" height=\"24px\"viewBox=\"0 0 24 24\"\n",
              "       width=\"24px\">\n",
              "    <path d=\"M0 0h24v24H0V0z\" fill=\"none\"/>\n",
              "    <path d=\"M18.56 5.44l.94 2.06.94-2.06 2.06-.94-2.06-.94-.94-2.06-.94 2.06-2.06.94zm-11 1L8.5 8.5l.94-2.06 2.06-.94-2.06-.94L8.5 2.5l-.94 2.06-2.06.94zm10 10l.94 2.06.94-2.06 2.06-.94-2.06-.94-.94-2.06-.94 2.06-2.06.94z\"/><path d=\"M17.41 7.96l-1.37-1.37c-.4-.4-.92-.59-1.43-.59-.52 0-1.04.2-1.43.59L10.3 9.45l-7.72 7.72c-.78.78-.78 2.05 0 2.83L4 21.41c.39.39.9.59 1.41.59.51 0 1.02-.2 1.41-.59l7.78-7.78 2.81-2.81c.8-.78.8-2.07 0-2.86zM5.41 20L4 18.59l7.72-7.72 1.47 1.35L5.41 20z\"/>\n",
              "  </svg>\n",
              "      </button>\n",
              "      \n",
              "  <style>\n",
              "    .colab-df-container {\n",
              "      display:flex;\n",
              "      flex-wrap:wrap;\n",
              "      gap: 12px;\n",
              "    }\n",
              "\n",
              "    .colab-df-convert {\n",
              "      background-color: #E8F0FE;\n",
              "      border: none;\n",
              "      border-radius: 50%;\n",
              "      cursor: pointer;\n",
              "      display: none;\n",
              "      fill: #1967D2;\n",
              "      height: 32px;\n",
              "      padding: 0 0 0 0;\n",
              "      width: 32px;\n",
              "    }\n",
              "\n",
              "    .colab-df-convert:hover {\n",
              "      background-color: #E2EBFA;\n",
              "      box-shadow: 0px 1px 2px rgba(60, 64, 67, 0.3), 0px 1px 3px 1px rgba(60, 64, 67, 0.15);\n",
              "      fill: #174EA6;\n",
              "    }\n",
              "\n",
              "    [theme=dark] .colab-df-convert {\n",
              "      background-color: #3B4455;\n",
              "      fill: #D2E3FC;\n",
              "    }\n",
              "\n",
              "    [theme=dark] .colab-df-convert:hover {\n",
              "      background-color: #434B5C;\n",
              "      box-shadow: 0px 1px 3px 1px rgba(0, 0, 0, 0.15);\n",
              "      filter: drop-shadow(0px 1px 2px rgba(0, 0, 0, 0.3));\n",
              "      fill: #FFFFFF;\n",
              "    }\n",
              "  </style>\n",
              "\n",
              "      <script>\n",
              "        const buttonEl =\n",
              "          document.querySelector('#df-6bab1da0-c225-4d59-91c0-685b7934f6c4 button.colab-df-convert');\n",
              "        buttonEl.style.display =\n",
              "          google.colab.kernel.accessAllowed ? 'block' : 'none';\n",
              "\n",
              "        async function convertToInteractive(key) {\n",
              "          const element = document.querySelector('#df-6bab1da0-c225-4d59-91c0-685b7934f6c4');\n",
              "          const dataTable =\n",
              "            await google.colab.kernel.invokeFunction('convertToInteractive',\n",
              "                                                     [key], {});\n",
              "          if (!dataTable) return;\n",
              "\n",
              "          const docLinkHtml = 'Like what you see? Visit the ' +\n",
              "            '<a target=\"_blank\" href=https://colab.research.google.com/notebooks/data_table.ipynb>data table notebook</a>'\n",
              "            + ' to learn more about interactive tables.';\n",
              "          element.innerHTML = '';\n",
              "          dataTable['output_type'] = 'display_data';\n",
              "          await google.colab.output.renderOutput(dataTable, element);\n",
              "          const docLink = document.createElement('div');\n",
              "          docLink.innerHTML = docLinkHtml;\n",
              "          element.appendChild(docLink);\n",
              "        }\n",
              "      </script>\n",
              "    </div>\n",
              "  </div>\n",
              "  "
            ]
          },
          "metadata": {},
          "execution_count": 27
        }
      ]
    },
    {
      "cell_type": "code",
      "source": [
        "data_new.to_csv('/content/drive/MyDrive/FortBrasil_Case/base_QT1.csv')"
      ],
      "metadata": {
        "id": "grU1bJSLjmB_"
      },
      "execution_count": 48,
      "outputs": []
    },
    {
      "cell_type": "markdown",
      "source": [
        "#### Qt 1.3\n",
        "<br>\n",
        "Utilizando como referência a base calculada na questão anterior, identifique qual das 3 variáveis calculadas tem o maior potencial de preditivo em relação a variável DS_ROLAGEM do mês de setembro.  <br>\n"
      ],
      "metadata": {
        "id": "9GqwYBcuSkL5"
      }
    },
    {
      "cell_type": "markdown",
      "source": [
        "Examinando correlação de Pearson."
      ],
      "metadata": {
        "id": "yTUGsIYBtF-a"
      }
    },
    {
      "cell_type": "code",
      "source": [
        "import seaborn as sns\n",
        "%matplotlib inline\n",
        "\n",
        "# plot the heatmap\n",
        "sns.heatmap(data_new.corr(), \n",
        "        xticklabels=data_new.columns,\n",
        "        yticklabels=data_new.columns)"
      ],
      "metadata": {
        "colab": {
          "base_uri": "https://localhost:8080/",
          "height": 407
        },
        "id": "FILlIA6c38N-",
        "outputId": "a84cbde9-fdb5-4014-b460-e4887e055784"
      },
      "execution_count": 28,
      "outputs": [
        {
          "output_type": "execute_result",
          "data": {
            "text/plain": [
              "<matplotlib.axes._subplots.AxesSubplot at 0x7faec89f5210>"
            ]
          },
          "metadata": {},
          "execution_count": 28
        },
        {
          "output_type": "display_data",
          "data": {
            "text/plain": [
              "<Figure size 432x288 with 2 Axes>"
            ],
            "image/png": "[encoded data removed]"
          },
          "metadata": {
            "needs_background": "light"
          }
        }
      ]
    },
    {
      "cell_type": "code",
      "source": [
        "# Percentual de clientes com cada uma das condições.\n",
        "data_new.DS_ROLAGEM.value_counts(normalize=True)*100"
      ],
      "metadata": {
        "colab": {
          "base_uri": "https://localhost:8080/"
        },
        "id": "5IoOMqkd4AcY",
        "outputId": "1d5f25f1-292c-4bd6-f2b0-c1afa4ba0bec"
      },
      "execution_count": 29,
      "outputs": [
        {
          "output_type": "execute_result",
          "data": {
            "text/plain": [
              "0    90.885093\n",
              "1     9.114907\n",
              "Name: DS_ROLAGEM, dtype: float64"
            ]
          },
          "metadata": {},
          "execution_count": 29
        }
      ]
    },
    {
      "cell_type": "markdown",
      "source": [
        "**Conclusões preliminares** <br>\n",
        "Partindo da matriz de correlação entre todas as features/colunas, vemos que há correlações lineares **muito fracas** entre as 3 colunas e o DS_ROLAGEM. Talvez isso esteja ocorrendo pois a quantidade de amostras com FX1 é bem menos do que FX0. <br>\n",
        "Ou seja, são menos de 10% do dataset com DS_ROLAGEM == FX1. Portanto, é interessante tentar alguma abordagem de geração. <br>"
      ],
      "metadata": {
        "id": "9kM8a92m6Hce"
      }
    },
    {
      "cell_type": "markdown",
      "source": [
        "#### Testes Estatísticos para Determinar Feature Importance\n",
        "A primeira parte dos testes é tentar entender se há qualquer correlação linear entre as features e o dado que queremos predizer (DS_ROLAGEM). Posteriomente, utilizaremos permutation_importance para averiguar a importância das features em relação aos modelos selecionados."
      ],
      "metadata": {
        "id": "3uXAfyBoex6R"
      }
    },
    {
      "cell_type": "code",
      "source": [
        "data_pred = data_new.iloc[:,[2,4,5,6]]"
      ],
      "metadata": {
        "id": "bPTk2HP-kFg_"
      },
      "execution_count": 30,
      "outputs": []
    },
    {
      "cell_type": "code",
      "source": [
        "g = sns.PairGrid(data_pred, diag_sharey=False).add_legend()\n",
        "g.map_lower(sns.kdeplot,cmap='Spectral')\n",
        "g.map_upper(sns.regplot, color=\"red\")\n",
        "g.map_diag(sns.kdeplot, lw=1,fill=True)"
      ],
      "metadata": {
        "id": "AzTC9Wyk6Fko"
      },
      "execution_count": null,
      "outputs": []
    },
    {
      "cell_type": "markdown",
      "source": [
        "##### Testando hipóteses sobre os dados\n",
        "1- Testar normalidade (e talvez homocedasticidade) dessas features. <br>\n",
        "2- E depois rodar algum teste para checar a correlação entre as variáveis. <br>\n",
        "2.1- Man-Whitney e Kruskal pra 'QTD_FATURA_ULT_6M', 'QTD_FATURA_ULT_6M_FX1' <br>\n",
        "2.2- 'VL_MEDIO_FATURA' é contínuo então PointBiserial."
      ],
      "metadata": {
        "id": "EnyVt75IZF_-"
      }
    },
    {
      "cell_type": "code",
      "source": [
        "# Testando Pointbiserial...\n",
        "from scipy.stats.stats import pointbiserialr as pb"
      ],
      "metadata": {
        "id": "MQQdxyDDRt9s"
      },
      "execution_count": 31,
      "outputs": []
    },
    {
      "cell_type": "code",
      "source": [
        "data_new"
      ],
      "metadata": {
        "colab": {
          "base_uri": "https://localhost:8080/",
          "height": 487
        },
        "id": "fQdsq3hXUfXm",
        "outputId": "22d8cd86-55fc-4478-a50a-504e3bbd9e5a"
      },
      "execution_count": 32,
      "outputs": [
        {
          "output_type": "execute_result",
          "data": {
            "text/plain": [
              "        ID_CONTA DT_VENCIMENTO  DS_ROLAGEM  VL_FATURA  QTD_FATURA_ULT_6M  \\\n",
              "0          27717    2019-09-20           0     878.89                  7   \n",
              "1          27789    2019-09-10           0     848.69                  7   \n",
              "2          30256    2019-09-08           0     180.95                  7   \n",
              "3          35473    2019-09-10           0     808.52                  7   \n",
              "4          35510    2019-09-05           0    1608.72                  7   \n",
              "...          ...           ...         ...        ...                ...   \n",
              "240546   1733074    2019-09-23           1     178.32                  1   \n",
              "240547   1733098    2019-09-23           0     204.38                  1   \n",
              "240548   1733273    2019-09-23           0     492.49                  1   \n",
              "240549   1733278    2019-09-23           0     138.58                  1   \n",
              "240550   1733288    2019-09-23           0      69.66                  1   \n",
              "\n",
              "        VL_MEDIO_FATURA  QTD_FATURA_ULT_6M_FX1  \n",
              "0           1638.812857                      0  \n",
              "1            945.460000                      0  \n",
              "2            443.702857                      0  \n",
              "3            898.972857                      0  \n",
              "4           1308.940000                      0  \n",
              "...                 ...                    ...  \n",
              "240546       110.690000                      0  \n",
              "240547       204.370000                      0  \n",
              "240548       121.820000                      0  \n",
              "240549       107.690000                      0  \n",
              "240550        69.660000                      0  \n",
              "\n",
              "[240551 rows x 7 columns]"
            ],
            "text/html": [
              "\n",
              "  <div id=\"df-321ae753-ded0-499b-99f1-0014f96eaa83\">\n",
              "    <div class=\"colab-df-container\">\n",
              "      <div>\n",
              "<style scoped>\n",
              "    .dataframe tbody tr th:only-of-type {\n",
              "        vertical-align: middle;\n",
              "    }\n",
              "\n",
              "    .dataframe tbody tr th {\n",
              "        vertical-align: top;\n",
              "    }\n",
              "\n",
              "    .dataframe thead th {\n",
              "        text-align: right;\n",
              "    }\n",
              "</style>\n",
              "<table border=\"1\" class=\"dataframe\">\n",
              "  <thead>\n",
              "    <tr style=\"text-align: right;\">\n",
              "      <th></th>\n",
              "      <th>ID_CONTA</th>\n",
              "      <th>DT_VENCIMENTO</th>\n",
              "      <th>DS_ROLAGEM</th>\n",
              "      <th>VL_FATURA</th>\n",
              "      <th>QTD_FATURA_ULT_6M</th>\n",
              "      <th>VL_MEDIO_FATURA</th>\n",
              "      <th>QTD_FATURA_ULT_6M_FX1</th>\n",
              "    </tr>\n",
              "  </thead>\n",
              "  <tbody>\n",
              "    <tr>\n",
              "      <th>0</th>\n",
              "      <td>27717</td>\n",
              "      <td>2019-09-20</td>\n",
              "      <td>0</td>\n",
              "      <td>878.89</td>\n",
              "      <td>7</td>\n",
              "      <td>1638.812857</td>\n",
              "      <td>0</td>\n",
              "    </tr>\n",
              "    <tr>\n",
              "      <th>1</th>\n",
              "      <td>27789</td>\n",
              "      <td>2019-09-10</td>\n",
              "      <td>0</td>\n",
              "      <td>848.69</td>\n",
              "      <td>7</td>\n",
              "      <td>945.460000</td>\n",
              "      <td>0</td>\n",
              "    </tr>\n",
              "    <tr>\n",
              "      <th>2</th>\n",
              "      <td>30256</td>\n",
              "      <td>2019-09-08</td>\n",
              "      <td>0</td>\n",
              "      <td>180.95</td>\n",
              "      <td>7</td>\n",
              "      <td>443.702857</td>\n",
              "      <td>0</td>\n",
              "    </tr>\n",
              "    <tr>\n",
              "      <th>3</th>\n",
              "      <td>35473</td>\n",
              "      <td>2019-09-10</td>\n",
              "      <td>0</td>\n",
              "      <td>808.52</td>\n",
              "      <td>7</td>\n",
              "      <td>898.972857</td>\n",
              "      <td>0</td>\n",
              "    </tr>\n",
              "    <tr>\n",
              "      <th>4</th>\n",
              "      <td>35510</td>\n",
              "      <td>2019-09-05</td>\n",
              "      <td>0</td>\n",
              "      <td>1608.72</td>\n",
              "      <td>7</td>\n",
              "      <td>1308.940000</td>\n",
              "      <td>0</td>\n",
              "    </tr>\n",
              "    <tr>\n",
              "      <th>...</th>\n",
              "      <td>...</td>\n",
              "      <td>...</td>\n",
              "      <td>...</td>\n",
              "      <td>...</td>\n",
              "      <td>...</td>\n",
              "      <td>...</td>\n",
              "      <td>...</td>\n",
              "    </tr>\n",
              "    <tr>\n",
              "      <th>240546</th>\n",
              "      <td>1733074</td>\n",
              "      <td>2019-09-23</td>\n",
              "      <td>1</td>\n",
              "      <td>178.32</td>\n",
              "      <td>1</td>\n",
              "      <td>110.690000</td>\n",
              "      <td>0</td>\n",
              "    </tr>\n",
              "    <tr>\n",
              "      <th>240547</th>\n",
              "      <td>1733098</td>\n",
              "      <td>2019-09-23</td>\n",
              "      <td>0</td>\n",
              "      <td>204.38</td>\n",
              "      <td>1</td>\n",
              "      <td>204.370000</td>\n",
              "      <td>0</td>\n",
              "    </tr>\n",
              "    <tr>\n",
              "      <th>240548</th>\n",
              "      <td>1733273</td>\n",
              "      <td>2019-09-23</td>\n",
              "      <td>0</td>\n",
              "      <td>492.49</td>\n",
              "      <td>1</td>\n",
              "      <td>121.820000</td>\n",
              "      <td>0</td>\n",
              "    </tr>\n",
              "    <tr>\n",
              "      <th>240549</th>\n",
              "      <td>1733278</td>\n",
              "      <td>2019-09-23</td>\n",
              "      <td>0</td>\n",
              "      <td>138.58</td>\n",
              "      <td>1</td>\n",
              "      <td>107.690000</td>\n",
              "      <td>0</td>\n",
              "    </tr>\n",
              "    <tr>\n",
              "      <th>240550</th>\n",
              "      <td>1733288</td>\n",
              "      <td>2019-09-23</td>\n",
              "      <td>0</td>\n",
              "      <td>69.66</td>\n",
              "      <td>1</td>\n",
              "      <td>69.660000</td>\n",
              "      <td>0</td>\n",
              "    </tr>\n",
              "  </tbody>\n",
              "</table>\n",
              "<p>240551 rows × 7 columns</p>\n",
              "</div>\n",
              "      <button class=\"colab-df-convert\" onclick=\"convertToInteractive('df-321ae753-ded0-499b-99f1-0014f96eaa83')\"\n",
              "              title=\"Convert this dataframe to an interactive table.\"\n",
              "              style=\"display:none;\">\n",
              "        \n",
              "  <svg xmlns=\"http://www.w3.org/2000/svg\" height=\"24px\"viewBox=\"0 0 24 24\"\n",
              "       width=\"24px\">\n",
              "    <path d=\"M0 0h24v24H0V0z\" fill=\"none\"/>\n",
              "    <path d=\"M18.56 5.44l.94 2.06.94-2.06 2.06-.94-2.06-.94-.94-2.06-.94 2.06-2.06.94zm-11 1L8.5 8.5l.94-2.06 2.06-.94-2.06-.94L8.5 2.5l-.94 2.06-2.06.94zm10 10l.94 2.06.94-2.06 2.06-.94-2.06-.94-.94-2.06-.94 2.06-2.06.94z\"/><path d=\"M17.41 7.96l-1.37-1.37c-.4-.4-.92-.59-1.43-.59-.52 0-1.04.2-1.43.59L10.3 9.45l-7.72 7.72c-.78.78-.78 2.05 0 2.83L4 21.41c.39.39.9.59 1.41.59.51 0 1.02-.2 1.41-.59l7.78-7.78 2.81-2.81c.8-.78.8-2.07 0-2.86zM5.41 20L4 18.59l7.72-7.72 1.47 1.35L5.41 20z\"/>\n",
              "  </svg>\n",
              "      </button>\n",
              "      \n",
              "  <style>\n",
              "    .colab-df-container {\n",
              "      display:flex;\n",
              "      flex-wrap:wrap;\n",
              "      gap: 12px;\n",
              "    }\n",
              "\n",
              "    .colab-df-convert {\n",
              "      background-color: #E8F0FE;\n",
              "      border: none;\n",
              "      border-radius: 50%;\n",
              "      cursor: pointer;\n",
              "      display: none;\n",
              "      fill: #1967D2;\n",
              "      height: 32px;\n",
              "      padding: 0 0 0 0;\n",
              "      width: 32px;\n",
              "    }\n",
              "\n",
              "    .colab-df-convert:hover {\n",
              "      background-color: #E2EBFA;\n",
              "      box-shadow: 0px 1px 2px rgba(60, 64, 67, 0.3), 0px 1px 3px 1px rgba(60, 64, 67, 0.15);\n",
              "      fill: #174EA6;\n",
              "    }\n",
              "\n",
              "    [theme=dark] .colab-df-convert {\n",
              "      background-color: #3B4455;\n",
              "      fill: #D2E3FC;\n",
              "    }\n",
              "\n",
              "    [theme=dark] .colab-df-convert:hover {\n",
              "      background-color: #434B5C;\n",
              "      box-shadow: 0px 1px 3px 1px rgba(0, 0, 0, 0.15);\n",
              "      filter: drop-shadow(0px 1px 2px rgba(0, 0, 0, 0.3));\n",
              "      fill: #FFFFFF;\n",
              "    }\n",
              "  </style>\n",
              "\n",
              "      <script>\n",
              "        const buttonEl =\n",
              "          document.querySelector('#df-321ae753-ded0-499b-99f1-0014f96eaa83 button.colab-df-convert');\n",
              "        buttonEl.style.display =\n",
              "          google.colab.kernel.accessAllowed ? 'block' : 'none';\n",
              "\n",
              "        async function convertToInteractive(key) {\n",
              "          const element = document.querySelector('#df-321ae753-ded0-499b-99f1-0014f96eaa83');\n",
              "          const dataTable =\n",
              "            await google.colab.kernel.invokeFunction('convertToInteractive',\n",
              "                                                     [key], {});\n",
              "          if (!dataTable) return;\n",
              "\n",
              "          const docLinkHtml = 'Like what you see? Visit the ' +\n",
              "            '<a target=\"_blank\" href=https://colab.research.google.com/notebooks/data_table.ipynb>data table notebook</a>'\n",
              "            + ' to learn more about interactive tables.';\n",
              "          element.innerHTML = '';\n",
              "          dataTable['output_type'] = 'display_data';\n",
              "          await google.colab.output.renderOutput(dataTable, element);\n",
              "          const docLink = document.createElement('div');\n",
              "          docLink.innerHTML = docLinkHtml;\n",
              "          element.appendChild(docLink);\n",
              "        }\n",
              "      </script>\n",
              "    </div>\n",
              "  </div>\n",
              "  "
            ]
          },
          "metadata": {},
          "execution_count": 32
        }
      ]
    },
    {
      "cell_type": "code",
      "source": [
        "targets = {'DS_ROLAGEM'}\n",
        "cont_features = {'VL_MEDIO_FATURA'}\n",
        "quasi_cat_features = {'QTD_FATURA_ULT_6M', 'QTD_FATURA_ULT_6M_FX1'}"
      ],
      "metadata": {
        "id": "fGWK1vAUUR0K"
      },
      "execution_count": 33,
      "outputs": []
    },
    {
      "cell_type": "code",
      "source": [
        "for feat in cont_features:\n",
        "  corr1 = pb(data_pred['DS_ROLAGEM'], data_pred[feat])\n",
        "  corr2 = pb(data_pred['DS_ROLAGEM'], data_new['VL_FATURA'])\n",
        "  print(\"PBsl para {0} corresponde a {1}.\".format(feat,corr1))\n",
        "  print(\"PBsl para {0} corresponde a {1}.\".format('VL_FATURA',corr2))"
      ],
      "metadata": {
        "colab": {
          "base_uri": "https://localhost:8080/"
        },
        "id": "dkpiEHSJGvlB",
        "outputId": "a3e7346e-af61-4622-8318-a765543fb748"
      },
      "execution_count": 34,
      "outputs": [
        {
          "output_type": "stream",
          "name": "stdout",
          "text": [
            "PBsl para VL_MEDIO_FATURA corresponde a PointbiserialrResult(correlation=-0.010390070671227748, pvalue=3.4685934961594827e-07).\n",
            "PBsl para VL_FATURA corresponde a PointbiserialrResult(correlation=0.17117137907276114, pvalue=0.0).\n"
          ]
        }
      ]
    },
    {
      "cell_type": "markdown",
      "source": [
        "Aparentemente, não há correlações lineares fortes. Mesmo usando PointBiserial (que testa correlação para cont x disc)."
      ],
      "metadata": {
        "id": "w2jHIW1gkZul"
      }
    },
    {
      "cell_type": "code",
      "source": [
        "from scipy import stats"
      ],
      "metadata": {
        "id": "9pwLI_F8ZxOs"
      },
      "execution_count": 35,
      "outputs": []
    },
    {
      "cell_type": "code",
      "source": [
        "# Shapiro-Wilk pra testar normalidade\n",
        "stats.shapiro(data_new['DS_ROLAGEM'])\n",
        "# descartando p-value, mas aparentemente não segue normalidade"
      ],
      "metadata": {
        "colab": {
          "base_uri": "https://localhost:8080/"
        },
        "id": "5Ps7NHmTZ7ux",
        "outputId": "a1791047-4a80-4b63-a036-587c9692f3a4"
      },
      "execution_count": 36,
      "outputs": [
        {
          "output_type": "stream",
          "name": "stderr",
          "text": [
            "/usr/local/lib/python3.7/dist-packages/scipy/stats/morestats.py:1676: UserWarning: p-value may not be accurate for N > 5000.\n",
            "  warnings.warn(\"p-value may not be accurate for N > 5000.\")\n"
          ]
        },
        {
          "output_type": "execute_result",
          "data": {
            "text/plain": [
              "(0.32437610626220703, 0.0)"
            ]
          },
          "metadata": {},
          "execution_count": 36
        }
      ]
    },
    {
      "cell_type": "code",
      "source": [
        "stats.shapiro(data_new['QTD_FATURA_ULT_6M'])\n",
        "# bom, parece que essa feature é ligeiramente normal."
      ],
      "metadata": {
        "colab": {
          "base_uri": "https://localhost:8080/"
        },
        "id": "bdMaz7nVaZp6",
        "outputId": "7b0d8dbe-65f3-46f1-ebc1-c5fff5f5445f"
      },
      "execution_count": 37,
      "outputs": [
        {
          "output_type": "stream",
          "name": "stderr",
          "text": [
            "/usr/local/lib/python3.7/dist-packages/scipy/stats/morestats.py:1676: UserWarning: p-value may not be accurate for N > 5000.\n",
            "  warnings.warn(\"p-value may not be accurate for N > 5000.\")\n"
          ]
        },
        {
          "output_type": "execute_result",
          "data": {
            "text/plain": [
              "(0.6821202039718628, 0.0)"
            ]
          },
          "metadata": {},
          "execution_count": 37
        }
      ]
    },
    {
      "cell_type": "code",
      "source": [
        "stats.shapiro(data_new['QTD_FATURA_ULT_6M_FX1'])\n",
        "# aparentemente não segue tanto assim uma normalidade"
      ],
      "metadata": {
        "colab": {
          "base_uri": "https://localhost:8080/"
        },
        "id": "3C5u8XrdbJgy",
        "outputId": "6b461f4f-ef26-4772-f335-fc37bc34ff4f"
      },
      "execution_count": 38,
      "outputs": [
        {
          "output_type": "stream",
          "name": "stderr",
          "text": [
            "/usr/local/lib/python3.7/dist-packages/scipy/stats/morestats.py:1676: UserWarning: p-value may not be accurate for N > 5000.\n",
            "  warnings.warn(\"p-value may not be accurate for N > 5000.\")\n"
          ]
        },
        {
          "output_type": "execute_result",
          "data": {
            "text/plain": [
              "(0.5171551704406738, 0.0)"
            ]
          },
          "metadata": {},
          "execution_count": 38
        }
      ]
    },
    {
      "cell_type": "markdown",
      "source": [
        "Utilizarei Mann-Whitney U e Kruskal..."
      ],
      "metadata": {
        "id": "TSlZcR7Xbkyw"
      }
    },
    {
      "cell_type": "code",
      "source": [
        "stats.kruskal(data_pred['DS_ROLAGEM'], data_pred['QTD_FATURA_ULT_6M'])"
      ],
      "metadata": {
        "colab": {
          "base_uri": "https://localhost:8080/"
        },
        "id": "2hvsrx9Bbpat",
        "outputId": "d4ebb724-3f8b-4bde-b663-e03174a891a3"
      },
      "execution_count": 39,
      "outputs": [
        {
          "output_type": "execute_result",
          "data": {
            "text/plain": [
              "KruskalResult(statistic=406434.21053280524, pvalue=0.0)"
            ]
          },
          "metadata": {},
          "execution_count": 39
        }
      ]
    },
    {
      "cell_type": "code",
      "source": [
        "lista = pd.crosstab(index=data_new['DS_ROLAGEM'],columns=data_new['QTD_FATURA_ULT_6M']).to_numpy()\n",
        "stats.kruskal(*lista)"
      ],
      "metadata": {
        "colab": {
          "base_uri": "https://localhost:8080/"
        },
        "id": "x8PndXTBcwKg",
        "outputId": "4cb0f5ac-11cd-4f8a-cea0-6fef94de4afa"
      },
      "execution_count": 40,
      "outputs": [
        {
          "output_type": "execute_result",
          "data": {
            "text/plain": [
              "KruskalResult(statistic=5.834558823529413, pvalue=0.0157143497722189)"
            ]
          },
          "metadata": {},
          "execution_count": 40
        }
      ]
    },
    {
      "cell_type": "markdown",
      "source": [
        "Kruskal Wallis pra crosstab para quantidade de faturas tem uma correlação interessante. Uma vez que o p-value está abaixo de 5%, temos um resultado com força estatística."
      ],
      "metadata": {
        "id": "AcgbootJda5B"
      }
    },
    {
      "cell_type": "code",
      "source": [
        "lista = pd.crosstab(index=data_new['DS_ROLAGEM'],columns=data_new['QTD_FATURA_ULT_6M_FX1']).to_numpy()\n",
        "stats.kruskal(*lista)"
      ],
      "metadata": {
        "colab": {
          "base_uri": "https://localhost:8080/"
        },
        "id": "7BMHuRl5dUlm",
        "outputId": "69764e0f-8e54-417d-c0b7-9a25aca94f7a"
      },
      "execution_count": 41,
      "outputs": [
        {
          "output_type": "execute_result",
          "data": {
            "text/plain": [
              "KruskalResult(statistic=0.3306122448979636, pvalue=0.5652987983097866)"
            ]
          },
          "metadata": {},
          "execution_count": 41
        }
      ]
    },
    {
      "cell_type": "markdown",
      "source": [
        "Bom, no caso das faturas em atraso, não parece haver uma correlação que se sustente, uma vez que o p-value está em 50%+. Isso indica que o teste encontrou um resultado aleatório. Ou seja, se tentarmos esse teste outras vezes, os resultados serão completamente diferentes uns dos outros. O que indica que a hipótese nula foi confirmada..."
      ],
      "metadata": {
        "id": "h5JhEuahdw4S"
      }
    },
    {
      "cell_type": "markdown",
      "source": [
        "##### Testando Feature Importance com o XGBoost"
      ],
      "metadata": {
        "id": "P5ZaK1SCg18t"
      }
    },
    {
      "cell_type": "code",
      "source": [
        "from sklearn.preprocessing import MinMaxScaler"
      ],
      "metadata": {
        "id": "cPMePfiYjBED"
      },
      "execution_count": 42,
      "outputs": []
    },
    {
      "cell_type": "code",
      "source": [
        "X = MinMaxScaler().fit_transform(data_pred.iloc[:,1:].to_numpy())\n",
        "y = data_pred.iloc[:,0].to_numpy()"
      ],
      "metadata": {
        "id": "rIR-sejzhFgJ"
      },
      "execution_count": 43,
      "outputs": []
    },
    {
      "cell_type": "code",
      "source": [
        "# permutation feature importance with knn for regression\n",
        "# modified from: https://machinelearningmastery.com/calculate-feature-importance-with-python/\n",
        "\n",
        "from xgboost import XGBClassifier\n",
        "from sklearn.inspection import permutation_importance\n",
        "from matplotlib import pyplot\n",
        "\n",
        "# define the model\n",
        "model = XGBClassifier()\n",
        "# fit the model\n",
        "model.fit(X, y)\n",
        "# perform permutation importance\n",
        "results = permutation_importance(model, X, y, scoring='neg_mean_squared_error')\n",
        "# get importance\n",
        "importance = results.importances_mean\n",
        "# summarize feature importance\n",
        "for i,v in enumerate(importance):\n",
        "\tprint('Feature: %0d, Score: %.5f' % (i,v))\n",
        "# plot feature importance\n",
        "pyplot.bar([x for x in range(len(importance))], importance)\n",
        "pyplot.show()"
      ],
      "metadata": {
        "colab": {
          "base_uri": "https://localhost:8080/",
          "height": 317
        },
        "id": "OuCNH2SggpOD",
        "outputId": "330082d4-3fcf-4e9c-b698-9f8c975a5f4e"
      },
      "execution_count": 44,
      "outputs": [
        {
          "output_type": "stream",
          "name": "stdout",
          "text": [
            "Feature: 0, Score: 0.00017\n",
            "Feature: 1, Score: 0.00021\n",
            "Feature: 2, Score: 0.00003\n"
          ]
        },
        {
          "output_type": "display_data",
          "data": {
            "text/plain": [
              "<Figure size 432x288 with 1 Axes>"
            ],
            "image/png": "[encoded data removed]"
          },
          "metadata": {
            "needs_background": "light"
          }
        }
      ]
    },
    {
      "cell_type": "code",
      "source": [
        "quasi_cat_features"
      ],
      "metadata": {
        "colab": {
          "base_uri": "https://localhost:8080/"
        },
        "id": "wYVYpgy4n6Ug",
        "outputId": "59bcc09b-6131-4f15-d788-442984c4940b"
      },
      "execution_count": 45,
      "outputs": [
        {
          "output_type": "execute_result",
          "data": {
            "text/plain": [
              "{'QTD_FATURA_ULT_6M', 'QTD_FATURA_ULT_6M_FX1'}"
            ]
          },
          "metadata": {},
          "execution_count": 45
        }
      ]
    },
    {
      "cell_type": "markdown",
      "source": [
        "**Conclusões** \n",
        "\n",
        "Pôde-se confirmar que as maiores correlações lineares são entre o valor médio da fatura e (dado outros testes), entre a quantidade de faturas pagas anteriormente. Da comparação dos testes Kruskal-Wallis das variáveis categóricas (QTD_FATURA_ULT_6M_FX1, QTD_FATURA_ULT_6M), vemos que QTD_FATURA_ULT_6M tem um potencial maior. Bem como VL_MEDIO_FATURA, de acordo com o teste U de Mann-Whitney. <br>\n",
        "\n",
        "As correlações abordadas até o momento são lineares, o que explica baixos índices/métricas (coeficientes próximos de 0) na correlação Pearson (Heatmap). No entanto, ao aplicar um modelo não linear (Gradient Boost Classifier) ao teste, percebemos que os padrões lineares não se mantém totalmente. Sendo assim, o ranking de preditores, de acordo com o padrão não linear é: <br>\n",
        "1. QTD_FATURA_ULT_6M_FX1, <br>\n",
        "2. QTD_FATURA_ULT_6M, <br>\n",
        "3. VL_FATURA_MEDIO <br>\n",
        "\n",
        "São necessários mais testes para averiguar estes resultados. Uma vez que o teste de correlações não lineares (e causalidade) são complexos, uma resposta mais robusta demanda mais estudos. Da interpretação dos resultados, há sentido em afirmar que **clientes que atrasam o pagamento tem uma alta probabilidade de recorrência**. <br>\n",
        "\n",
        "Porém, um problema chama a atenção neste caso, que é o **desbalanço entre as distribuições de usuários que atrasam e os que não atrasam**. Um conjunto de dados desbalanceado pode promover uma série de viéses no estudo. Incluíndo impactar negativamente nos testes de correlação. Testes não paramétricos, ou baseados em amostragem, teoricamente eliminam (alguns d)esses viéses. Esse comportamento é latente ao analisar a diferença entre os testes lineares e os não lineares. \n",
        "\n",
        "A solução mais eficaz para esses problemas é aumentar o volume de dados de usuários que atrasam pagamento. Para isso, uma opção, sem utilizar geração de dados, é realizar estes mesmos cálculos para outros intervalos de tempo e estratificar os dados, criando um novo conjunto de clientes que atrasam. Modificar o conjunto negativo (dos usuários que pagam corretamente), para se adequar aos estratos e distribuições de outros meses, também é uma opção viável e interessante. Porém, a implementação de cada um dependedos requisitos de projeto, principalmente os operacionais."
      ],
      "metadata": {
        "id": "NvOFweQmfXxU"
      }
    },
    {
      "cell_type": "code",
      "source": [
        ""
      ],
      "metadata": {
        "id": "FpNg5k7mj5VX"
      },
      "execution_count": 41,
      "outputs": []
    }
  ]
}